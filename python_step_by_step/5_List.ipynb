{
 "cells": [
  {
   "cell_type": "markdown",
   "id": "d922115b",
   "metadata": {},
   "source": [
    "# Lists in Python\n",
    "\n",
    "A **list** in Python is a built-in data structure that is used to store an ordered collection of items. Lists are one of the most versatile and commonly used data types in Python. They allow you to store multiple items in a single variable, and the items can be of different data types (e.g., integers, strings, floats, or even other lists).\n",
    "\n",
    "## Key Features of Lists\n",
    "1. **Ordered**: The items in a list have a defined order, and this order will not change unless explicitly modified.\n",
    "2. **Mutable**: Lists are mutable, meaning you can change their content (e.g., add, remove, or modify elements).\n",
    "3. **Heterogeneous**: A list can contain elements of different data types.\n",
    "4. **Dynamic**: Lists can grow or shrink in size as needed.\n",
    "\n",
    "## Creating a List\n",
    "You can create a list by placing items inside square brackets `[]`, separated by commas."
   ]
  },
  {
   "cell_type": "code",
   "execution_count": 514,
   "id": "699a0b1b",
   "metadata": {},
   "outputs": [],
   "source": [
    "my_list = [0, 1, 2, 3, 4, 5]\n",
    "# This is a list declaration"
   ]
  },
  {
   "cell_type": "code",
   "execution_count": 515,
   "id": "aaf95cf5",
   "metadata": {},
   "outputs": [
    {
     "data": {
      "text/plain": [
       "0"
      ]
     },
     "execution_count": 515,
     "metadata": {},
     "output_type": "execute_result"
    }
   ],
   "source": [
    "my_list[0]\n",
    "# This is a list index"
   ]
  },
  {
   "cell_type": "code",
   "execution_count": 516,
   "id": "198a5a44",
   "metadata": {},
   "outputs": [
    {
     "data": {
      "text/plain": [
       "[1, 2]"
      ]
     },
     "execution_count": 516,
     "metadata": {},
     "output_type": "execute_result"
    }
   ],
   "source": [
    "my_list[1:3]\n",
    "# This is a list slice"
   ]
  },
  {
   "cell_type": "code",
   "execution_count": 517,
   "id": "1a7f7858",
   "metadata": {},
   "outputs": [
    {
     "data": {
      "text/plain": [
       "[0, 2, 4]"
      ]
     },
     "execution_count": 517,
     "metadata": {},
     "output_type": "execute_result"
    }
   ],
   "source": [
    "my_list[0:6:2]\n",
    "# This is a list slice"
   ]
  },
  {
   "cell_type": "markdown",
   "id": "9d2b95f4",
   "metadata": {},
   "source": [
    "## Spacing and Slicing in Lists\n",
    "\n",
    "### Spacing\n",
    "In Python, lists are zero-indexed, meaning the first element of the list is at index `0`, the second element is at index `1`, and so on. You can access elements of a list using their index.\n",
    "\n",
    "For example:\n",
    "- `my_list[0]` gives the first element of the list.\n",
    "- `my_list[5]` gives the last element of the list (in this case, `5`).\n",
    "\n",
    "### Slicing\n",
    "Slicing allows you to access a subset of a list by specifying a range of indices. The syntax for slicing is `list[start:stop]`, where:\n",
    "- `start` is the index of the first element to include (inclusive).\n",
    "- `stop` is the index of the first element to exclude (exclusive).\n",
    "\n",
    "For example:\n",
    "- `my_list[1:3]` will return `[1, 2]`, which includes elements at indices `1` and `2` but excludes the element at index `3`.\n",
    "\n",
    "You can also use optional step values with the syntax `list[start:stop:step]` to skip elements in the range. For example:\n",
    "- `my_list[0:6:2]` will return `[0, 2, 4]`, which includes every second element in the range."
   ]
  },
  {
   "cell_type": "code",
   "execution_count": 518,
   "id": "f27f9e70",
   "metadata": {},
   "outputs": [
    {
     "name": "stdout",
     "output_type": "stream",
     "text": [
      "The element is 0.\n",
      "The element is 1.\n",
      "The element is 2.\n",
      "The element is 3.\n",
      "The element is 4.\n",
      "The element is 5.\n"
     ]
    }
   ],
   "source": [
    "for i in my_list:\n",
    "    print(f'The element is {i}.')\n",
    "# This is a for loop\n",
    "# This is a for loop with an else clause\n"
   ]
  },
  {
   "cell_type": "code",
   "execution_count": 519,
   "id": "a4841682",
   "metadata": {},
   "outputs": [],
   "source": [
    "names_list = ['Alice', 'Bob', 'Charlie', 'David', 'Eve', 'Frank']\n",
    "# This is a list of names\n",
    "# The list can contain elements of any data type"
   ]
  },
  {
   "cell_type": "code",
   "execution_count": 520,
   "id": "7648a4bb",
   "metadata": {},
   "outputs": [
    {
     "data": {
      "text/plain": [
       "['Alice', 'Bob', 'Charlie', 'David', 'Eve', 'Frank']"
      ]
     },
     "execution_count": 520,
     "metadata": {},
     "output_type": "execute_result"
    }
   ],
   "source": [
    "names_list"
   ]
  },
  {
   "cell_type": "code",
   "execution_count": 521,
   "id": "a968aaa8",
   "metadata": {},
   "outputs": [],
   "source": [
    "names_list[0] = 'Fernando'\n",
    "# This is a list assignment"
   ]
  },
  {
   "cell_type": "code",
   "execution_count": 522,
   "id": "e58a63b3",
   "metadata": {},
   "outputs": [
    {
     "data": {
      "text/plain": [
       "['Fernando', 'Bob', 'Charlie', 'David', 'Eve', 'Frank']"
      ]
     },
     "execution_count": 522,
     "metadata": {},
     "output_type": "execute_result"
    }
   ],
   "source": [
    "names_list"
   ]
  },
  {
   "cell_type": "code",
   "execution_count": 523,
   "id": "0a7c99d2",
   "metadata": {},
   "outputs": [
    {
     "data": {
      "text/plain": [
       "'Eve'"
      ]
     },
     "execution_count": 523,
     "metadata": {},
     "output_type": "execute_result"
    }
   ],
   "source": [
    "names_list[-2]\n",
    "# This is a negative index"
   ]
  },
  {
   "cell_type": "code",
   "execution_count": 524,
   "id": "654e2168",
   "metadata": {},
   "outputs": [],
   "source": [
    "# declare a list of any data type\n",
    "mixed_list = [1, 3.14, 'Have a nice day!', True, None]\n",
    "# This is a list of mixed data types"
   ]
  },
  {
   "cell_type": "code",
   "execution_count": 525,
   "id": "5786cec9",
   "metadata": {},
   "outputs": [
    {
     "name": "stdout",
     "output_type": "stream",
     "text": [
      "The element is 1, and its type is <class 'int'>.\n",
      "The element is 3.14, and its type is <class 'float'>.\n",
      "The element is Have a nice day!, and its type is <class 'str'>.\n",
      "The element is True, and its type is <class 'bool'>.\n",
      "The element is None, and its type is <class 'NoneType'>.\n"
     ]
    }
   ],
   "source": [
    "for i in mixed_list:\n",
    "    variable_type = type(i)\n",
    "    print(f'The element is {i}, and its type is {variable_type}.')\n",
    "# Show the type of each element in the list"
   ]
  },
  {
   "cell_type": "markdown",
   "id": "5e2cebd3",
   "metadata": {},
   "source": [
    "## The `len()` Method in Python (on Lists)\n",
    "\n",
    "The `len()` method can be used to determine the number of elements in a list. It provides the total count of items stored in the list, including elements of any data type.\n",
    "\n",
    "### Syntax"
   ]
  },
  {
   "cell_type": "code",
   "execution_count": 526,
   "id": "1fa2f688",
   "metadata": {},
   "outputs": [
    {
     "data": {
      "text/plain": [
       "5"
      ]
     },
     "execution_count": 526,
     "metadata": {},
     "output_type": "execute_result"
    }
   ],
   "source": [
    "len(mixed_list)\n",
    "# This is the length of the list"
   ]
  },
  {
   "cell_type": "code",
   "execution_count": 527,
   "id": "a932d53d",
   "metadata": {},
   "outputs": [
    {
     "data": {
      "text/plain": [
       "0"
      ]
     },
     "execution_count": 527,
     "metadata": {},
     "output_type": "execute_result"
    }
   ],
   "source": [
    "len([])\n",
    "# The length of an empty list is 0"
   ]
  },
  {
   "cell_type": "markdown",
   "id": "e06af554",
   "metadata": {},
   "source": [
    "## List Concatenation in Python\n",
    "\n",
    "List concatenation is the process of combining two or more lists into a single list. In Python, this can be achieved using the `+` operator. When two lists are concatenated, the elements of the second list are appended to the end of the first list, creating a new list.\n",
    "\n",
    "### Example"
   ]
  },
  {
   "cell_type": "code",
   "execution_count": 528,
   "id": "9b9d3702",
   "metadata": {},
   "outputs": [
    {
     "data": {
      "text/plain": [
       "[1,\n",
       " 3.14,\n",
       " 'Have a nice day!',\n",
       " True,\n",
       " None,\n",
       " 'Fernando',\n",
       " 'Bob',\n",
       " 'Charlie',\n",
       " 'David',\n",
       " 'Eve',\n",
       " 'Frank']"
      ]
     },
     "execution_count": 528,
     "metadata": {},
     "output_type": "execute_result"
    }
   ],
   "source": [
    "mixed_list + names_list\n",
    "# This is a list concatenation"
   ]
  },
  {
   "cell_type": "code",
   "execution_count": 529,
   "id": "8cacbb80",
   "metadata": {},
   "outputs": [
    {
     "data": {
      "text/plain": [
       "['Fernando',\n",
       " 'Bob',\n",
       " 'Charlie',\n",
       " 'David',\n",
       " 'Eve',\n",
       " 'Frank',\n",
       " 'Fernando',\n",
       " 'Bob',\n",
       " 'Charlie',\n",
       " 'David',\n",
       " 'Eve',\n",
       " 'Frank']"
      ]
     },
     "execution_count": 529,
     "metadata": {},
     "output_type": "execute_result"
    }
   ],
   "source": [
    "names_list * 2\n",
    "# This is a list repetition"
   ]
  },
  {
   "cell_type": "markdown",
   "id": "2eef2c4b",
   "metadata": {},
   "source": [
    "## The `count()` Method in Python (on Lists)\n",
    "\n",
    "The `count()` method in Python is used to count the number of occurrences of a specific element in a list. It returns an integer representing how many times the specified element appears in the list.\n",
    "\n",
    "### Syntax"
   ]
  },
  {
   "cell_type": "code",
   "execution_count": 530,
   "id": "99f9263d",
   "metadata": {},
   "outputs": [
    {
     "data": {
      "text/plain": [
       "0"
      ]
     },
     "execution_count": 530,
     "metadata": {},
     "output_type": "execute_result"
    }
   ],
   "source": [
    "names_list.count('Alice')"
   ]
  },
  {
   "cell_type": "code",
   "execution_count": 531,
   "id": "7dd59133",
   "metadata": {},
   "outputs": [
    {
     "data": {
      "text/plain": [
       "0"
      ]
     },
     "execution_count": 531,
     "metadata": {},
     "output_type": "execute_result"
    }
   ],
   "source": [
    "names_list.count('Semon')\n",
    "# does not exist in the list"
   ]
  },
  {
   "cell_type": "markdown",
   "id": "92cd15ec",
   "metadata": {},
   "source": [
    "## The `pop()` Method in Python (on Lists)\n",
    "\n",
    "The `pop()` method in Python is used to remove and return an element from a list. By default, it removes the last element of the list, but you can specify an index to remove an element from a specific position.\n",
    "\n",
    "### Key Features of `pop()`\n",
    "1. **Modifies the List**: The `pop()` method directly modifies the original list by removing the specified element.\n",
    "2. **Returns the Removed Element**: The method returns the value of the element that was removed.\n",
    "3. **Index Parameter (Optional)**: You can specify the index of the element to remove. If no index is provided, the last element is removed.\n",
    "\n",
    "### Syntax"
   ]
  },
  {
   "cell_type": "code",
   "execution_count": 532,
   "id": "89c5368f",
   "metadata": {},
   "outputs": [
    {
     "name": "stdout",
     "output_type": "stream",
     "text": [
      "['Fernando', 'Bob', 'Charlie', 'David', 'Eve', 'Frank']\n",
      "['Fernando', 'Bob', 'Charlie', 'David', 'Eve']\n"
     ]
    }
   ],
   "source": [
    "print(names_list)\n",
    "names_list.pop()\n",
    "print(names_list)\n",
    "# This removes the last element of the list"
   ]
  },
  {
   "cell_type": "code",
   "execution_count": 533,
   "id": "e713150d",
   "metadata": {},
   "outputs": [
    {
     "name": "stdout",
     "output_type": "stream",
     "text": [
      "['Fernando', 'Bob', 'Charlie', 'David', 'Eve']\n",
      "['Fernando', 'Bob', 'David', 'Eve']\n"
     ]
    }
   ],
   "source": [
    "print(names_list)\n",
    "names_list.pop(2)\n",
    "print(names_list)\n",
    "# This removes the element at index 2 of the list"
   ]
  },
  {
   "cell_type": "code",
   "execution_count": 534,
   "id": "7aae09f5",
   "metadata": {},
   "outputs": [
    {
     "name": "stdout",
     "output_type": "stream",
     "text": [
      "David\n"
     ]
    }
   ],
   "source": [
    "name = names_list.pop(2)\n",
    "print(name)\n",
    "# This removes the element at index 2 of the list and assigns it to the variable name\n",
    "# This will print \"David\""
   ]
  },
  {
   "cell_type": "markdown",
   "id": "1af83f5b",
   "metadata": {},
   "source": [
    "## The `sort()` Method in Python (on Lists)\n",
    "\n",
    "The `sort()` method in Python is used to sort the elements of a list in place, either in ascending or descending order. It modifies the original list and does not return a new list.\n",
    "\n",
    "### Key Features of `sort()`\n",
    "1. **In-Place Sorting**: The `sort()` method directly modifies the original list.\n",
    "2. **Optional Parameters**:\n",
    "    - `key`: A function that serves as a key for the sort comparison. By default, it is `None`.\n",
    "    - `reverse`: A boolean value. If `True`, the list is sorted in descending order. By default, it is `False` (ascending order).\n",
    "\n",
    "### Syntax"
   ]
  },
  {
   "cell_type": "code",
   "execution_count": 535,
   "id": "e8f32a5d",
   "metadata": {},
   "outputs": [
    {
     "name": "stdout",
     "output_type": "stream",
     "text": [
      "['Fernando', 'Bob', 'Eve']\n",
      "['Bob', 'Eve', 'Fernando']\n"
     ]
    }
   ],
   "source": [
    "print(names_list)\n",
    "names_list.sort()\n",
    "print(names_list)\n",
    "# This sorts the list in ascending order"
   ]
  },
  {
   "cell_type": "markdown",
   "id": "daae6bd3",
   "metadata": {},
   "source": [
    "## The `remove()` Method in Python (on Lists)\n",
    "\n",
    "The `remove()` method in Python is used to remove the first occurrence of a specified value from a list. If the specified value is not found in the list, it raises a `ValueError`.\n",
    "\n",
    "### Key Features of `remove()`\n",
    "1. **Modifies the List**: The `remove()` method directly modifies the original list by removing the specified element.\n",
    "2. **First Occurrence Only**: If the specified value appears multiple times in the list, only the first occurrence is removed.\n",
    "3. **Raises an Error if Not Found**: If the value is not present in the list, a `ValueError` is raised.\n",
    "\n",
    "### Syntax"
   ]
  },
  {
   "cell_type": "code",
   "execution_count": 536,
   "id": "bcedd8fc",
   "metadata": {},
   "outputs": [
    {
     "name": "stdout",
     "output_type": "stream",
     "text": [
      "['Bob', 'Eve', 'Fernando']\n",
      "['Bob', 'Fernando']\n"
     ]
    }
   ],
   "source": [
    "print(names_list)\n",
    "names_list.remove(\"Eve\")\n",
    "# This removes the first occurrence of \"Eve\" from the list\n",
    "print(names_list)"
   ]
  },
  {
   "cell_type": "code",
   "execution_count": 537,
   "id": "7427124f",
   "metadata": {},
   "outputs": [
    {
     "name": "stdout",
     "output_type": "stream",
     "text": [
      "['Bob', 'Fernando']\n"
     ]
    }
   ],
   "source": [
    "print(names_list)\n",
    "#names_list.remove('Alice')\n",
    "# Attempting to remove 'Alice' from names_list, but it is not found in the list, so this will raise a ValueError."
   ]
  },
  {
   "cell_type": "markdown",
   "id": "3b929ff5",
   "metadata": {},
   "source": [
    "## The `reverse()` Method in Python (on Lists)\n",
    "\n",
    "The `reverse()` method in Python is used to reverse the elements of a list in place. It modifies the original list and does not return a new list.\n",
    "\n",
    "### Key Features of `reverse()`\n",
    "1. **In-Place Reversal**: The `reverse()` method directly modifies the original list by reversing the order of its elements.\n",
    "2. **No Return Value**: The method does not return a new list; instead, it returns `None`.\n",
    "3. **Works on Any List**: The method can be used on lists containing elements of any data type.\n",
    "\n",
    "### Syntax"
   ]
  },
  {
   "cell_type": "code",
   "execution_count": 538,
   "id": "723f19db",
   "metadata": {},
   "outputs": [
    {
     "name": "stdout",
     "output_type": "stream",
     "text": [
      "['Bob', 'Fernando']\n",
      "['Fernando', 'Bob']\n"
     ]
    }
   ],
   "source": [
    "print(names_list)\n",
    "names_list.reverse()\n",
    "print(names_list)"
   ]
  },
  {
   "cell_type": "code",
   "execution_count": 539,
   "id": "de23a741",
   "metadata": {},
   "outputs": [
    {
     "name": "stdout",
     "output_type": "stream",
     "text": [
      "[4, 1, 3, 5, 2, 6]\n"
     ]
    }
   ],
   "source": [
    "list_of_numbers = [6, 2, 5, 3, 1, 4]\n",
    "list_of_numbers.reverse()\n",
    "print(list_of_numbers)\n",
    "# The reverse() method reverses the elements of the list in place, modifying the original list.\n"
   ]
  },
  {
   "cell_type": "code",
   "execution_count": 540,
   "id": "20260d2d",
   "metadata": {},
   "outputs": [
    {
     "name": "stdout",
     "output_type": "stream",
     "text": [
      "[1, 2, 3, 4, 5, 6]\n"
     ]
    }
   ],
   "source": [
    "list_of_numbers.sort()\n",
    "print(list_of_numbers)"
   ]
  },
  {
   "cell_type": "markdown",
   "id": "9a4b211a",
   "metadata": {},
   "source": [
    "## The `append()` Method in Python (on Lists)\n",
    "\n",
    "The `append()` method in Python is used to add a single element to the end of a list. It modifies the original list in place and does not return a new list.\n",
    "\n",
    "### Key Features of `append()`\n",
    "1. **Modifies the List**: The `append()` method directly modifies the original list by adding the specified element to the end.\n",
    "2. **Single Element Only**: The method takes exactly one argument, which is the element to be added. If you want to add multiple elements, you can use other methods like `extend()` or list concatenation.\n",
    "3. **Works on Any Data Type**: The element being appended can be of any data type (e.g., integer, string, list, etc.).\n",
    "\n",
    "### Syntax"
   ]
  },
  {
   "cell_type": "code",
   "execution_count": 541,
   "id": "34e9113f",
   "metadata": {},
   "outputs": [
    {
     "name": "stdout",
     "output_type": "stream",
     "text": [
      "[1, 2, 3, 4, 5, 6]\n",
      "[1, 2, 3, 4, 5, 6, 7]\n"
     ]
    }
   ],
   "source": [
    "print(list_of_numbers)\n",
    "# The append() method adds an element to the end of the list.\n",
    "list_of_numbers.append(7)\n",
    "print(list_of_numbers)"
   ]
  },
  {
   "cell_type": "markdown",
   "id": "5ad3aee0",
   "metadata": {},
   "source": [
    "## The `extend()` Method in Python (on Lists)\n",
    "\n",
    "The `extend()` method in Python is used to add all the elements of an iterable (e.g., list, tuple, set, etc.) to the end of a list. It modifies the original list in place and does not return a new list.\n",
    "\n",
    "### Key Features of `extend()`\n",
    "1. **Modifies the List**: The `extend()` method directly modifies the original list by appending all elements of the specified iterable.\n",
    "2. **Multiple Elements**: Unlike the `append()` method, which adds a single element, `extend()` adds multiple elements from an iterable.\n",
    "3. **Works with Any Iterable**: The method can accept any iterable, such as lists, tuples, sets, or strings.\n",
    "\n",
    "### Syntax"
   ]
  },
  {
   "cell_type": "code",
   "execution_count": 542,
   "id": "4025e35a",
   "metadata": {},
   "outputs": [
    {
     "name": "stdout",
     "output_type": "stream",
     "text": [
      "[1, 2, 3, 4, 5, 6, 7, 8]\n"
     ]
    }
   ],
   "source": [
    "list1 = [1, 2, 3, 4]\n",
    "list2 = [5, 6, 7, 8]\n",
    "# The extend() method extends the list by appending elements from another iterable (like another list).\n",
    "list1.extend(list2)\n",
    "print(list1)\n",
    "list_of_numbers = list1"
   ]
  },
  {
   "cell_type": "markdown",
   "id": "8eb99ab5",
   "metadata": {},
   "source": [
    "## The `insert()` Method in Python (on Lists)\n",
    "\n",
    "The `insert()` method in Python is used to insert an element at a specified position in a list. It modifies the original list in place and does not return a new list.\n",
    "\n",
    "### Key Features of `insert()`\n",
    "1. **Modifies the List**: The `insert()` method directly modifies the original list by adding the specified element at the given index.\n",
    "2. **Index Parameter**: The method takes two arguments:\n",
    "    - `index`: The position at which the element should be inserted. If the index is out of range, the element is added at the beginning (if negative) or the end (if greater than the list length).\n",
    "    - `item`: The element to be inserted.\n",
    "3. **Works with Any Data Type**: The element being inserted can be of any data type (e.g., integer, string, list, etc.).\n",
    "\n",
    "### Syntax"
   ]
  },
  {
   "cell_type": "code",
   "execution_count": 543,
   "id": "70a23f4f",
   "metadata": {},
   "outputs": [
    {
     "name": "stdout",
     "output_type": "stream",
     "text": [
      "[0, 1, 2, 3, 4, 5, 6, 7, 8]\n"
     ]
    }
   ],
   "source": [
    "list_of_numbers.insert(0, 0)\n",
    "print(list_of_numbers)\n",
    "# The insert() method inserts an element at a specified position in the list.\n",
    "# in this example, it inserts 0 at index 0."
   ]
  },
  {
   "cell_type": "markdown",
   "id": "7377cd1d",
   "metadata": {},
   "source": [
    "## The `index()` Method in Python (on Lists)\n",
    "\n",
    "The `index()` method in Python is used to find the index of the first occurrence of a specified value in a list. If the value is not found, it raises a `ValueError`.\n",
    "\n",
    "### Key Features of `index()`\n",
    "1. **Returns the Index**: The method returns the index of the first occurrence of the specified value in the list.\n",
    "2. **Raises an Error if Not Found**: If the specified value is not present in the list, a `ValueError` is raised.\n",
    "3. **Optional Parameters**:\n",
    "    - `start`: The starting index to begin the search (inclusive).\n",
    "    - `end`: The ending index to stop the search (exclusive).\n",
    "\n",
    "### Syntax"
   ]
  },
  {
   "cell_type": "code",
   "execution_count": 544,
   "id": "1b7a262a",
   "metadata": {},
   "outputs": [
    {
     "name": "stdout",
     "output_type": "stream",
     "text": [
      "3\n"
     ]
    }
   ],
   "source": [
    "index_of_3 = list_of_numbers.index(3)\n",
    "print(index_of_3)"
   ]
  },
  {
   "cell_type": "code",
   "execution_count": 545,
   "id": "c9abbba5",
   "metadata": {},
   "outputs": [],
   "source": [
    "#index_of_3 = list_of_numbers.index(3, 5)\n",
    "#print(index_of_3)\n",
    "# The index() method returns the index of the first occurrence of a specified value in the list.\n",
    "# In this example, it starts searching from index 5.\n",
    "# If the value is not found, it raises a ValueError.\n",
    "# The index() method can also take a start and end parameter to specify the range in which to search."
   ]
  },
  {
   "cell_type": "code",
   "execution_count": 546,
   "id": "c3ca5a10",
   "metadata": {},
   "outputs": [
    {
     "name": "stdout",
     "output_type": "stream",
     "text": [
      "3\n"
     ]
    }
   ],
   "source": [
    "index_of_3 = list_of_numbers.index(3, 2, 5)\n",
    "print(index_of_3)\n",
    "# In this example, the index() method searches for the value 3 in the range from index 2 to index 5 (exclusive).\n"
   ]
  },
  {
   "cell_type": "code",
   "execution_count": 547,
   "id": "a443d7c5",
   "metadata": {},
   "outputs": [],
   "source": [
    "#index_of_7 = list_of_numbers.index(7, 2, 5)\n",
    "#print(index_of_7)\n",
    "# The index() method in this example starts searching from index 2 to index 5.\n",
    "# index of 7 is not found in the range of 2 to 5, so it raises a ValueError.\n",
    "\n",
    "\n"
   ]
  },
  {
   "cell_type": "markdown",
   "id": "4259b7d8",
   "metadata": {},
   "source": [
    "## The `copy()` Method in Python (on Lists)\n",
    "\n",
    "The `copy()` method in Python is used to create a shallow copy of a list. A shallow copy means that the new list contains references to the same objects as the original list, rather than creating new independent objects. This method is useful when you want to duplicate a list without modifying the original list.\n",
    "\n",
    "### Key Features of `copy()`\n",
    "1. **Creates a New List**: The `copy()` method creates a new list that is a duplicate of the original list.\n",
    "2. **Shallow Copy**: The new list contains references to the same objects as the original list. If the list contains mutable objects (e.g., other lists), changes to those objects will be reflected in both the original and copied lists.\n",
    "3. **Does Not Modify the Original List**: The original list remains unchanged when the `copy()` method is used.\n",
    "\n",
    "### Syntax"
   ]
  },
  {
   "cell_type": "code",
   "execution_count": 548,
   "id": "0160c3be",
   "metadata": {},
   "outputs": [
    {
     "name": "stdout",
     "output_type": "stream",
     "text": [
      "[0, 1, 2, 3, 4, 5, 6, 7, 8]\n"
     ]
    }
   ],
   "source": [
    "new_list = list_of_numbers.copy()\n",
    "print(new_list)"
   ]
  },
  {
   "cell_type": "markdown",
   "id": "bda7d673",
   "metadata": {},
   "source": [
    "## Declaring Lists in Python\n",
    "\n",
    "In Python, a **list** is a built-in data structure used to store an ordered collection of items. Lists are versatile and can hold elements of different data types, including integers, strings, floats, and even other lists.\n",
    "\n",
    "### Syntax for Declaring a List\n",
    "To declare a list, you use square brackets `[]` and separate the elements with commas.\n",
    "\n",
    "### Examples of List Declaration\n",
    "1. **Empty List**:\n",
    "    ```python\n",
    "    empty_list = []\n",
    "    ```\n",
    "\n",
    "2. **List of Integers**:\n",
    "    ```python\n",
    "    numbers = [1, 2, 3, 4, 5]\n",
    "    ```\n",
    "\n",
    "3. **List of Strings**:\n",
    "    ```python\n",
    "    names = ['Alice', 'Bob', 'Charlie']\n",
    "    ```\n",
    "\n",
    "4. **Mixed Data Types**:\n",
    "    ```python\n",
    "    mixed_list = [1, 3.14, 'Hello', True, None]\n",
    "    ```\n",
    "\n",
    "5. **Nested Lists**:\n",
    "    ```python\n",
    "    nested_list = [[1, 2], [3, 4], [5, 6]]\n",
    "    ```\n",
    "\n",
    "### Key Points\n",
    "- Lists are **mutable**, meaning you can modify their content after creation (e.g., add, remove, or change elements).\n",
    "- Lists are **ordered**, so the elements maintain their position unless explicitly modified.\n",
    "- Lists can grow or shrink dynamically, making them a flexible data structure for various use cases."
   ]
  },
  {
   "cell_type": "code",
   "execution_count": 549,
   "id": "566a4724",
   "metadata": {},
   "outputs": [],
   "source": [
    "# declare a list of any data type\n",
    "mixed_list = [1, 3.14, 'Have a nice day!', True, None]\n",
    "# This is a list of mixed data types"
   ]
  },
  {
   "cell_type": "code",
   "execution_count": 550,
   "id": "5c48cd4a",
   "metadata": {},
   "outputs": [
    {
     "name": "stdout",
     "output_type": "stream",
     "text": [
      "The element is 1, and its type is <class 'int'>.\n",
      "The element is 3.14, and its type is <class 'float'>.\n",
      "The element is Have a nice day!, and its type is <class 'str'>.\n",
      "The element is True, and its type is <class 'bool'>.\n",
      "The element is None, and its type is <class 'NoneType'>.\n"
     ]
    }
   ],
   "source": [
    "for i in mixed_list:\n",
    "    variable_type = type(i)\n",
    "    print(f'The element is {i}, and its type is {variable_type}.')\n",
    "# Show the type of each element in the list"
   ]
  },
  {
   "cell_type": "code",
   "execution_count": 551,
   "id": "3cbf8040",
   "metadata": {},
   "outputs": [
    {
     "name": "stdout",
     "output_type": "stream",
     "text": [
      "[0, 1, [2, 30], 3, 4, 5, 6, 7, 8]\n"
     ]
    }
   ],
   "source": [
    "new_list[2] = [2, 30]\n",
    "print(new_list)\n",
    "# This is a list of lists\n",
    "# In this example, the element at index 2 of new_list is replaced with a list [2, 30].\n",
    "# This demonstrates how to update a specific element in a list with another list."
   ]
  },
  {
   "cell_type": "code",
   "execution_count": 552,
   "id": "7d24cf67",
   "metadata": {},
   "outputs": [
    {
     "name": "stdout",
     "output_type": "stream",
     "text": [
      "[0, 1, [2, 20], 3, 4, 5, 6, 7, 8]\n"
     ]
    }
   ],
   "source": [
    "new_list[2][1] = 20\n",
    "print(new_list)\n",
    "# This code updates the second element of the list at index 2 that is declared in the index 2 of new_list."
   ]
  },
  {
   "cell_type": "markdown",
   "id": "d8be189e",
   "metadata": {},
   "source": [
    "## The `clear()` Method in Python (on Lists)\n",
    "\n",
    "The `clear()` method in Python is used to remove all elements from a list, effectively making it an empty list. This method modifies the original list in place and does not return a new list.\n",
    "\n",
    "### Key Features of `clear()`\n",
    "1. **Modifies the List**: The `clear()` method directly modifies the original list by removing all its elements.\n",
    "2. **No Return Value**: The method does not return any value; it simply empties the list.\n",
    "3. **Works on Any List**: The method can be used on lists containing elements of any data type.\n",
    "\n",
    "### Syntax"
   ]
  },
  {
   "cell_type": "code",
   "execution_count": 553,
   "id": "4307915d",
   "metadata": {},
   "outputs": [
    {
     "name": "stdout",
     "output_type": "stream",
     "text": [
      "[]\n"
     ]
    }
   ],
   "source": [
    "new_list.clear()\n",
    "print(new_list)\n",
    "# The clear() method removes all elements from the list, leaving it empty."
   ]
  }
 ],
 "metadata": {
  "kernelspec": {
   "display_name": "ml_course_403_2",
   "language": "python",
   "name": "python3"
  },
  "language_info": {
   "codemirror_mode": {
    "name": "ipython",
    "version": 3
   },
   "file_extension": ".py",
   "mimetype": "text/x-python",
   "name": "python",
   "nbconvert_exporter": "python",
   "pygments_lexer": "ipython3",
   "version": "3.10.16"
  }
 },
 "nbformat": 4,
 "nbformat_minor": 5
}
