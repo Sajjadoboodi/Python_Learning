{
 "cells": [
  {
   "cell_type": "markdown",
   "id": "f28d3ee7",
   "metadata": {},
   "source": [
    "# Boolean in Python\n",
    "\n",
    "## What is a Boolean?\n",
    "\n",
    "In Python, a **Boolean** is a data type that can have one of two values: `True` or `False`. These values are used to represent the truth value of an expression. Booleans are a fundamental part of programming and are often used in decision-making and control flow.\n",
    "\n",
    "## What Can Be Done with Booleans?\n",
    "\n",
    "1. **Conditional Statements**: Booleans are commonly used in `if`, `elif`, and `else` statements to control the flow of a program.\n",
    "    ```python\n",
    "    is_raining = True\n",
    "    if is_raining:\n",
    "         print(\"Take an umbrella!\")\n",
    "    else:\n",
    "         print(\"Enjoy the sunshine!\")\n",
    "    ```\n",
    "\n",
    "2. **Logical Operations**: Python provides logical operators like `and`, `or`, and `not` to combine or modify Boolean values.\n",
    "    ```python\n",
    "    is_sunny = True\n",
    "    is_warm = False\n",
    "    print(is_sunny and is_warm)  # False\n",
    "    print(is_sunny or is_warm)  # True\n",
    "    print(not is_sunny)         # False\n",
    "    ```\n",
    "\n",
    "3. **Comparison Operations**: Booleans are the result of comparison operations such as `==`, `!=`, `<`, `>`, `<=`, and `>=`.\n",
    "    ```python\n",
    "    a = 10\n",
    "    b = 20\n",
    "    print(a < b)  # True\n",
    "    print(a == b) # False\n",
    "    ```\n",
    "\n",
    "4. **Boolean Conversion**: Any value in Python can be converted to a Boolean using the `bool()` function. By default:\n",
    "    - Values like `0`, `None`, `False`, `[]`, `''`, and `{}` are considered `False`.\n",
    "    - All other values are considered `True`.\n",
    "    ```python\n",
    "    print(bool(0))       # False\n",
    "    print(bool(42))      # True\n",
    "    print(bool(\"\"))      # False\n",
    "    print(bool(\"Hello\")) # True\n",
    "    ```\n",
    "\n",
    "5. **Loops**: Booleans can be used to control loops.\n",
    "    ```python\n",
    "    is_running = True\n",
    "    while is_running:\n",
    "         print(\"The loop is running.\")\n",
    "         is_running = False\n",
    "    ```\n",
    "\n",
    "Booleans are essential for writing logical and efficient programs. They allow developers to make decisions, evaluate conditions, and control the flow of execution."
   ]
  },
  {
   "cell_type": "code",
   "execution_count": 19,
   "id": "ee05c539",
   "metadata": {},
   "outputs": [
    {
     "data": {
      "text/plain": [
       "True"
      ]
     },
     "execution_count": 19,
     "metadata": {},
     "output_type": "execute_result"
    }
   ],
   "source": [
    "True"
   ]
  },
  {
   "cell_type": "code",
   "execution_count": 20,
   "id": "3d39bf7b",
   "metadata": {},
   "outputs": [
    {
     "data": {
      "text/plain": [
       "False"
      ]
     },
     "execution_count": 20,
     "metadata": {},
     "output_type": "execute_result"
    }
   ],
   "source": [
    "False"
   ]
  },
  {
   "cell_type": "code",
   "execution_count": 21,
   "id": "03bfccae",
   "metadata": {},
   "outputs": [
    {
     "data": {
      "text/plain": [
       "True"
      ]
     },
     "execution_count": 21,
     "metadata": {},
     "output_type": "execute_result"
    }
   ],
   "source": [
    "1 == True"
   ]
  },
  {
   "cell_type": "code",
   "execution_count": 22,
   "id": "9b194fc7",
   "metadata": {},
   "outputs": [
    {
     "data": {
      "text/plain": [
       "False"
      ]
     },
     "execution_count": 22,
     "metadata": {},
     "output_type": "execute_result"
    }
   ],
   "source": [
    "1 == False"
   ]
  },
  {
   "cell_type": "code",
   "execution_count": 23,
   "id": "355b51e3",
   "metadata": {},
   "outputs": [
    {
     "data": {
      "text/plain": [
       "True"
      ]
     },
     "execution_count": 23,
     "metadata": {},
     "output_type": "execute_result"
    }
   ],
   "source": [
    "0 == False"
   ]
  },
  {
   "cell_type": "code",
   "execution_count": 24,
   "id": "14b095eb",
   "metadata": {},
   "outputs": [
    {
     "data": {
      "text/plain": [
       "False"
      ]
     },
     "execution_count": 24,
     "metadata": {},
     "output_type": "execute_result"
    }
   ],
   "source": [
    "0 == True"
   ]
  },
  {
   "cell_type": "code",
   "execution_count": 25,
   "id": "37dea538",
   "metadata": {},
   "outputs": [
    {
     "data": {
      "text/plain": [
       "True"
      ]
     },
     "execution_count": 25,
     "metadata": {},
     "output_type": "execute_result"
    }
   ],
   "source": [
    "1 == 1.0"
   ]
  },
  {
   "cell_type": "code",
   "execution_count": 26,
   "id": "2ed051f6",
   "metadata": {},
   "outputs": [
    {
     "data": {
      "text/plain": [
       "True"
      ]
     },
     "execution_count": 26,
     "metadata": {},
     "output_type": "execute_result"
    }
   ],
   "source": [
    "3 < 5"
   ]
  },
  {
   "cell_type": "code",
   "execution_count": 27,
   "id": "cc877225",
   "metadata": {},
   "outputs": [
    {
     "data": {
      "text/plain": [
       "False"
      ]
     },
     "execution_count": 27,
     "metadata": {},
     "output_type": "execute_result"
    }
   ],
   "source": [
    "5 <= 4"
   ]
  },
  {
   "cell_type": "code",
   "execution_count": 28,
   "id": "f9084673",
   "metadata": {},
   "outputs": [
    {
     "data": {
      "text/plain": [
       "True"
      ]
     },
     "execution_count": 28,
     "metadata": {},
     "output_type": "execute_result"
    }
   ],
   "source": [
    "6 >= 6"
   ]
  },
  {
   "cell_type": "code",
   "execution_count": 29,
   "id": "251a66cb",
   "metadata": {},
   "outputs": [],
   "source": [
    "a = True"
   ]
  },
  {
   "cell_type": "code",
   "execution_count": 30,
   "id": "f57aea56",
   "metadata": {},
   "outputs": [
    {
     "data": {
      "text/plain": [
       "bool"
      ]
     },
     "execution_count": 30,
     "metadata": {},
     "output_type": "execute_result"
    }
   ],
   "source": [
    "type(a)\n",
    "# The type of a is bool"
   ]
  },
  {
   "cell_type": "code",
   "execution_count": 31,
   "id": "fc2ddc55",
   "metadata": {},
   "outputs": [
    {
     "data": {
      "text/plain": [
       "False"
      ]
     },
     "execution_count": 31,
     "metadata": {},
     "output_type": "execute_result"
    }
   ],
   "source": [
    "\"\" == True\n",
    "# The empty string is considered False"
   ]
  },
  {
   "cell_type": "code",
   "execution_count": 32,
   "id": "bdddedb3",
   "metadata": {},
   "outputs": [
    {
     "data": {
      "text/plain": [
       "False"
      ]
     },
     "execution_count": 32,
     "metadata": {},
     "output_type": "execute_result"
    }
   ],
   "source": [
    "\"Hello World\" == True\n",
    "# Non-empty strings are considered True"
   ]
  },
  {
   "cell_type": "code",
   "execution_count": null,
   "id": "b291f038",
   "metadata": {},
   "outputs": [
    {
     "name": "stdout",
     "output_type": "stream",
     "text": [
      "a is True\n",
      "a is True\n"
     ]
    }
   ],
   "source": [
    "if(a == True):\n",
    "    print(\"a is True\")\n",
    "else:\n",
    "    print(\"a is False\")\n",
    "    \n",
    "# The above code is equivalent to:\n",
    "\n",
    "if a:\n",
    "    print(\"a is True\")\n",
    "else:\n",
    "    print(\"a is False\")"
   ]
  },
  {
   "cell_type": "code",
   "execution_count": 40,
   "id": "96ac8cd1",
   "metadata": {},
   "outputs": [
    {
     "name": "stdout",
     "output_type": "stream",
     "text": [
      "Both a and b are positive\n",
      "Both a and b are positive\n"
     ]
    }
   ],
   "source": [
    "a = 3.14\n",
    "b = 4\n",
    "\n",
    "if a > 0 and b > 0:\n",
    "    print(\"Both a and b are positive\")\n",
    "else:\n",
    "    print(\"At least one of a or b is not positive\")\n",
    "\n",
    "# The above code is equivalent to:\n",
    "\n",
    "if not (a > 0 and b > 0):\n",
    "    print(\"At least one of a or b is not positive\")\n",
    "else:\n",
    "    print(\"Both a and b are positive\")\n",
    "    \n",
    "# The 'not' operator negates the condition\n",
    "# When we want the opposite of a logic, we can use not."
   ]
  },
  {
   "cell_type": "code",
   "execution_count": 39,
   "id": "592b2689",
   "metadata": {},
   "outputs": [
    {
     "name": "stdout",
     "output_type": "stream",
     "text": [
      "a is bigger than 0 and b is less than 0\n"
     ]
    }
   ],
   "source": [
    "a = 4.5\n",
    "b = -3\n",
    "\n",
    "\n",
    "if a < 0 or b > 0:\n",
    "    print(\"If one of a or b is positive execute this\")\n",
    "else:\n",
    "    print(\"a is bigger than 0 and b is less than 0\")\n",
    "    \n"
   ]
  }
 ],
 "metadata": {
  "kernelspec": {
   "display_name": "ml_course_403_2",
   "language": "python",
   "name": "python3"
  },
  "language_info": {
   "codemirror_mode": {
    "name": "ipython",
    "version": 3
   },
   "file_extension": ".py",
   "mimetype": "text/x-python",
   "name": "python",
   "nbconvert_exporter": "python",
   "pygments_lexer": "ipython3",
   "version": "3.10.16"
  }
 },
 "nbformat": 4,
 "nbformat_minor": 5
}
