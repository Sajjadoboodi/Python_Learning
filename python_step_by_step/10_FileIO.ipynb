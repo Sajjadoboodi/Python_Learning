{
 "cells": [
  {
   "cell_type": "code",
   "execution_count": 1,
   "id": "dc26d52f",
   "metadata": {},
   "outputs": [
    {
     "data": {
      "text/plain": [
       "'c:\\\\Users\\\\sajad\\\\VSCode\\\\Python\\\\Mkh_course\\\\Python_Learning\\\\python_step_by_step'"
      ]
     },
     "execution_count": 1,
     "metadata": {},
     "output_type": "execute_result"
    }
   ],
   "source": [
    "pwd"
   ]
  },
  {
   "cell_type": "markdown",
   "id": "00c69173",
   "metadata": {},
   "source": [
    "### Address extraction\n",
    "\n",
    "The variable `current_directory` is a string that holds the path to the current working directory. This value was obtained using the `os.getcwd()` function, which retrieves the absolute path of the directory where the Python script or Jupyter Notebook is being executed.\n",
    "\n",
    "In this case, the value of `current_directory` is:"
   ]
  },
  {
   "cell_type": "code",
   "execution_count": 2,
   "id": "9db2e238",
   "metadata": {},
   "outputs": [
    {
     "name": "stdout",
     "output_type": "stream",
     "text": [
      "c:\\Users\\sajad\\VSCode\\Python\\Mkh_course\\Python_Learning\\python_step_by_step\n"
     ]
    }
   ],
   "source": [
    "import os\n",
    "\n",
    "# Get the current working directory\n",
    "current_directory = os.getcwd()\n",
    "\n",
    "print(current_directory)"
   ]
  },
  {
   "cell_type": "code",
   "execution_count": 3,
   "id": "60440ede",
   "metadata": {},
   "outputs": [],
   "source": [
    "my_file = open(\"IOfile.txt\")"
   ]
  },
  {
   "cell_type": "code",
   "execution_count": 4,
   "id": "4b96288f",
   "metadata": {},
   "outputs": [
    {
     "data": {
      "text/plain": [
       "'Learning Python is rewarding due to its simple syntax and versatility.\\nIt’s great for beginners and pros alike, covering web development, data science, and automation. \\nStart with basics like variables, loops, and functions to build a solid foundation. \\nPractice by coding small projects, like a calculator or web scraper.'"
      ]
     },
     "execution_count": 4,
     "metadata": {},
     "output_type": "execute_result"
    }
   ],
   "source": [
    "my_file.read()"
   ]
  },
  {
   "cell_type": "markdown",
   "id": "951dcb23",
   "metadata": {},
   "source": [
    "### Understanding `seek` and `read` Methods in File Handling\n",
    "\n",
    "The `seek` method in Python is used to change the file's current position. When working with files, the file object maintains an internal pointer that indicates the current position in the file. This pointer determines where the next read or write operation will occur. The `seek` method allows you to move this pointer to a specific location in the file.\n",
    "\n",
    "#### Syntax:"
   ]
  },
  {
   "cell_type": "code",
   "execution_count": 5,
   "id": "78df7888",
   "metadata": {},
   "outputs": [
    {
     "data": {
      "text/plain": [
       "''"
      ]
     },
     "execution_count": 5,
     "metadata": {},
     "output_type": "execute_result"
    }
   ],
   "source": [
    "my_file.read()\n",
    "# The file has already been read once, so the cursor is now at the end of the file. Reading it again will return an empty string. "
   ]
  },
  {
   "cell_type": "code",
   "execution_count": 6,
   "id": "0aaac547",
   "metadata": {},
   "outputs": [
    {
     "data": {
      "text/plain": [
       "0"
      ]
     },
     "execution_count": 6,
     "metadata": {},
     "output_type": "execute_result"
    }
   ],
   "source": [
    "my_file.seek(0)\n",
    "# Move the cursor back to the beginning of the file"
   ]
  },
  {
   "cell_type": "code",
   "execution_count": 7,
   "id": "1cbcb0a6",
   "metadata": {},
   "outputs": [
    {
     "data": {
      "text/plain": [
       "'Learning Python is rewarding due to its simple syntax and versatility.\\nIt’s great for beginners and pros alike, covering web development, data science, and automation. \\nStart with basics like variables, loops, and functions to build a solid foundation. \\nPractice by coding small projects, like a calculator or web scraper.'"
      ]
     },
     "execution_count": 7,
     "metadata": {},
     "output_type": "execute_result"
    }
   ],
   "source": [
    "my_file.read()"
   ]
  },
  {
   "cell_type": "code",
   "execution_count": 8,
   "id": "7c59bed6",
   "metadata": {},
   "outputs": [
    {
     "name": "stdout",
     "output_type": "stream",
     "text": [
      "Overwriting new_file.txt\n"
     ]
    }
   ],
   "source": [
    "%%writefile new_file.txt\n",
    "This is a new file created from a Jupyter notebook.\n",
    "I hope works!\n",
    "# This file is created using the %%writefile magic command in Jupyter Notebook "
   ]
  },
  {
   "cell_type": "code",
   "execution_count": 9,
   "id": "0aa2cf32",
   "metadata": {},
   "outputs": [],
   "source": [
    "with open(\"new_created_file.txt\", \"w\") as new_file:\n",
    "    new_file.write(\"This is a new file created using Python.\\n\")\n",
    "    new_file.write(\"You can write multiple lines into it.\")\n",
    "    # At first, the file is created in write mode (\"w\"), which means it will be overwritten if it already exists.\n",
    "    # The 'with' statement ensures the file is properly closed after writing.\n",
    "    # This code writes two lines of text into the file 'new_created_file.txt'.\n"
   ]
  },
  {
   "cell_type": "code",
   "execution_count": 10,
   "id": "45f888b4",
   "metadata": {},
   "outputs": [
    {
     "data": {
      "text/plain": [
       "0"
      ]
     },
     "execution_count": 10,
     "metadata": {},
     "output_type": "execute_result"
    }
   ],
   "source": [
    "my_file.seek(0)\n",
    "# Move the cursor back to the beginning of the file"
   ]
  },
  {
   "cell_type": "code",
   "execution_count": 11,
   "id": "919e3b21",
   "metadata": {},
   "outputs": [],
   "source": [
    "files = my_file.readlines()\n",
    "# This will read all lines in the file and return them as a list."
   ]
  },
  {
   "cell_type": "code",
   "execution_count": 12,
   "id": "5237813d",
   "metadata": {},
   "outputs": [
    {
     "data": {
      "text/plain": [
       "['Learning Python is rewarding due to its simple syntax and versatility.\\n',\n",
       " 'It’s great for beginners and pros alike, covering web development, data science, and automation. \\n',\n",
       " 'Start with basics like variables, loops, and functions to build a solid foundation. \\n',\n",
       " 'Practice by coding small projects, like a calculator or web scraper.']"
      ]
     },
     "execution_count": 12,
     "metadata": {},
     "output_type": "execute_result"
    }
   ],
   "source": [
    "files"
   ]
  },
  {
   "cell_type": "code",
   "execution_count": 13,
   "id": "79bd000a",
   "metadata": {},
   "outputs": [
    {
     "data": {
      "text/plain": [
       "0"
      ]
     },
     "execution_count": 13,
     "metadata": {},
     "output_type": "execute_result"
    }
   ],
   "source": [
    "my_file.seek(0)"
   ]
  },
  {
   "cell_type": "code",
   "execution_count": 14,
   "id": "9fd93f19",
   "metadata": {},
   "outputs": [],
   "source": [
    "s_line = my_file.readline()\n",
    "# This will read the next line in the file and return it as a string."
   ]
  },
  {
   "cell_type": "code",
   "execution_count": 15,
   "id": "675f6953",
   "metadata": {},
   "outputs": [
    {
     "data": {
      "text/plain": [
       "'Learning Python is rewarding due to its simple syntax and versatility.\\n'"
      ]
     },
     "execution_count": 15,
     "metadata": {},
     "output_type": "execute_result"
    }
   ],
   "source": [
    "s_line"
   ]
  },
  {
   "cell_type": "code",
   "execution_count": 16,
   "id": "73da34db",
   "metadata": {},
   "outputs": [],
   "source": [
    "s_line = my_file.readline()\n"
   ]
  },
  {
   "cell_type": "code",
   "execution_count": 17,
   "id": "28d96b10",
   "metadata": {},
   "outputs": [
    {
     "data": {
      "text/plain": [
       "'It’s great for beginners and pros alike, covering web development, data science, and automation. \\n'"
      ]
     },
     "execution_count": 17,
     "metadata": {},
     "output_type": "execute_result"
    }
   ],
   "source": [
    "s_line"
   ]
  },
  {
   "cell_type": "code",
   "execution_count": 18,
   "id": "e490ac28",
   "metadata": {},
   "outputs": [],
   "source": [
    "my_file.close()\n",
    "# Close the file after reading/writing to free up system resources."
   ]
  },
  {
   "cell_type": "code",
   "execution_count": 19,
   "id": "974aef7a",
   "metadata": {},
   "outputs": [
    {
     "data": {
      "text/plain": [
       "'\\nfile mode:\\nr: Read (default mode). Opens a file for reading, error if the file does not exist.\\nr+: Read and write. Opens a file for reading and writing, error if the file does not exist.\\na: Append. Opens a file for appending, creates the file if it does not exist.\\na+: Append and read. Opens a file for appending and reading, creates the file if it does not exist.\\nw: Write. Opens a file for writing, creates the file if it does not exist.\\nw+: Write and read. Opens a file for writing and reading, creates the file if it does not exist.\\nrb: Read binary. Opens a file for reading in binary mode.\\nrb+ : Read and write binary. Opens a file for reading and writing in binary mode.\\nwb: Write binary. Opens a file for writing in binary mode.\\nwb+ : Write and read binary. Opens a file for writing and reading in binary mode.\\nab: Append binary. Opens a file for appending in binary mode.\\nab+ : Append and read binary. Opens a file for appending and reading in binary mode.\\n\\n'"
      ]
     },
     "execution_count": 19,
     "metadata": {},
     "output_type": "execute_result"
    }
   ],
   "source": [
    "'''\n",
    "file mode:\n",
    "r: Read (default mode). Opens a file for reading, error if the file does not exist.\n",
    "r+: Read and write. Opens a file for reading and writing, error if the file does not exist.\n",
    "a: Append. Opens a file for appending, creates the file if it does not exist.\n",
    "a+: Append and read. Opens a file for appending and reading, creates the file if it does not exist.\n",
    "w: Write. Opens a file for writing, creates the file if it does not exist.\n",
    "w+: Write and read. Opens a file for writing and reading, creates the file if it does not exist.\n",
    "rb: Read binary. Opens a file for reading in binary mode.\n",
    "rb+ : Read and write binary. Opens a file for reading and writing in binary mode.\n",
    "wb: Write binary. Opens a file for writing in binary mode.\n",
    "wb+ : Write and read binary. Opens a file for writing and reading in binary mode.\n",
    "ab: Append binary. Opens a file for appending in binary mode.\n",
    "ab+ : Append and read binary. Opens a file for appending and reading in binary mode.\n",
    "\n",
    "'''"
   ]
  },
  {
   "cell_type": "code",
   "execution_count": 20,
   "id": "fb3d17af",
   "metadata": {},
   "outputs": [],
   "source": [
    "with open(\"new_binary_file.bin\", \"wb\") as binary_file:\n",
    "    binary_file.write(b\"This is a binary file.\\n\")\n",
    "    binary_file.write(b\"This is a new binary file.\\n\")\n",
    "    binary_file.write(b\"You can write binary data into it.\")\n",
    "    # The 'b' before the string indicates that it is a byte string, which is necessary for writing binary data.\n",
    "    # This code writes two lines of binary data into the file 'new_binary_file.bin'."
   ]
  },
  {
   "cell_type": "code",
   "execution_count": 21,
   "id": "9007356c",
   "metadata": {},
   "outputs": [
    {
     "name": "stdout",
     "output_type": "stream",
     "text": [
      "b'This is a binary file.\\nThis is a new binary file.\\nYou can write binary data into it.'\n"
     ]
    }
   ],
   "source": [
    "# Create a program for reading a binary file\n",
    "\n",
    "with open(\"new_binary_file.bin\", \"rb\") as binary_file:\n",
    "    binary_data = binary_file.read()\n",
    "    # This will read all the binary data in the file and return it as bytes.\n",
    "    print(binary_data)"
   ]
  },
  {
   "cell_type": "code",
   "execution_count": null,
   "id": "4dd98583",
   "metadata": {},
   "outputs": [
    {
     "name": "stdout",
     "output_type": "stream",
     "text": [
      "This is a new file created using Python.\n",
      "You can write multiple lines into it.\n",
      "--------------------\n",
      "--------------------\n",
      "This is a new file created using Python.\n",
      "You can write multiple lines into it.\n",
      "This is an additional line added to the file.\n"
     ]
    }
   ],
   "source": [
    "with open(\"new_created_file.txt\", \"r\") as read_file:\n",
    "    lines = []\n",
    "    # Read all lines using a for loop until EOF\n",
    "    for line in read_file:\n",
    "        lines.append(line.strip())\n",
    "    for line in lines:\n",
    "        print(line)\n",
    "        \n",
    "print(\"-\"*20)\n",
    "\n",
    "print(\"-\"*20)\n",
    "\n",
    "\n",
    "with open(\"new_created_file.txt\", \"a\") as new_file:\n",
    "    new_file.write(\"\\nThis is an additional line added to the file.\")\n",
    "    # The 'a' mode opens the file for appending, so the new line will be added at the end of the file.\n",
    "    # This code appends a new line to the existing file 'new_created_file.txt'.\n",
    "\n",
    "\n",
    "\n",
    "with open(\"new_created_file.txt\", \"r\") as read_file:\n",
    "    lines = []\n",
    "    # Read all lines using a for loop until EOF\n",
    "    for line in read_file:\n",
    "        lines.append(line.strip())\n",
    "    for line in lines:\n",
    "        print(line)\n"
   ]
  }
 ],
 "metadata": {
  "kernelspec": {
   "display_name": "ml_course_403_2",
   "language": "python",
   "name": "python3"
  },
  "language_info": {
   "codemirror_mode": {
    "name": "ipython",
    "version": 3
   },
   "file_extension": ".py",
   "mimetype": "text/x-python",
   "name": "python",
   "nbconvert_exporter": "python",
   "pygments_lexer": "ipython3",
   "version": "3.10.16"
  }
 },
 "nbformat": 4,
 "nbformat_minor": 5
}
