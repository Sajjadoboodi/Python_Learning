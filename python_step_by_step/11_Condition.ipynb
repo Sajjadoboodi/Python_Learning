{
 "cells": [
  {
   "cell_type": "markdown",
   "id": "dcaed29f",
   "metadata": {},
   "source": [
    "# 📌 Bookmark: Understanding Conditions in Python\n",
    "\n",
    "**What is a condition?**  \n",
    "A **condition** lets us control **whether** a block of code **executes or not** based on a test.\n",
    "\n",
    "---\n",
    "\n",
    "## 🔹 The Basics\n",
    "Python uses the `if` statement to **check a condition**.\n",
    "\n",
    "## What is `else` in Python?\n",
    "\n",
    "The `else` statement in Python is used with `if` to run a block of code **when the condition is not true**.\n",
    "\n",
    "- If the `if` condition is `True`, the code under `if` runs.\n",
    "- If the `if` condition is `False`, the code under `else` runs.\n",
    "\n",
    "```python\n",
    "if condition:\n",
    "    # code to run if the condition is True\n",
    "\n",
    "\n",
    "\n"
   ]
  },
  {
   "cell_type": "code",
   "execution_count": 10,
   "id": "9db04c4b",
   "metadata": {},
   "outputs": [],
   "source": [
    "condition = True"
   ]
  },
  {
   "cell_type": "code",
   "execution_count": 11,
   "id": "b9b9b8c0",
   "metadata": {},
   "outputs": [
    {
     "name": "stdout",
     "output_type": "stream",
     "text": [
      "Condition is true\n"
     ]
    }
   ],
   "source": [
    "if condition:\n",
    "    # code to execute if condition is true\n",
    "    print(\"Condition is true\")\n",
    "else:\n",
    "    # code to execute if condition is false\n",
    "    print(\"Condition is false\")"
   ]
  },
  {
   "cell_type": "code",
   "execution_count": 12,
   "id": "6290406f",
   "metadata": {},
   "outputs": [],
   "source": [
    "condition = False"
   ]
  },
  {
   "cell_type": "code",
   "execution_count": 13,
   "id": "9068a60e",
   "metadata": {},
   "outputs": [
    {
     "name": "stdout",
     "output_type": "stream",
     "text": [
      "Condition is false\n"
     ]
    }
   ],
   "source": [
    "if condition:\n",
    "    # code to execute if condition is true\n",
    "    print(\"Condition is true\")\n",
    "else:\n",
    "    # code to execute if condition is false\n",
    "    print(\"Condition is false\")"
   ]
  },
  {
   "cell_type": "markdown",
   "id": "8af2ecb2",
   "metadata": {},
   "source": [
    "# 🚫 Why Using Consecutive `if` Statements Can Be Inefficient\n",
    "\n",
    "When writing code that checks multiple, **mutually exclusive conditions**, using **consecutive `if` statements** can be **less efficient** than using `if` / `elif` / `else`.\n",
    "\n",
    "---\n",
    "\n",
    "## 🔹 What Happens with Consecutive `if` Statements?\n",
    "\n",
    "If you write:\n",
    "\n",
    "```python\n",
    "if condition1:\n",
    "    # do something\n",
    "if condition2:\n",
    "    # do something\n",
    "if condition3:\n",
    "    # do something\n"
   ]
  },
  {
   "cell_type": "code",
   "execution_count": 14,
   "id": "bf8ba42e",
   "metadata": {},
   "outputs": [],
   "source": [
    "age = 19"
   ]
  },
  {
   "cell_type": "code",
   "execution_count": 17,
   "id": "f505c2db",
   "metadata": {},
   "outputs": [
    {
     "name": "stdout",
     "output_type": "stream",
     "text": [
      "You are a young.\n"
     ]
    }
   ],
   "source": [
    "if age < 12:\n",
    "    # code to execute if age is less than 12\n",
    "    print(\"You are a child.\")\n",
    "if (18>age>12):\n",
    "    # code to execute if age is less than 18\n",
    "    print(\"You are a teenager.\")\n",
    "if (30>age>18):\n",
    "    # code to execute if age is less than 35\n",
    "    print(\"You are a young.\")\n",
    "if (50>age>35):\n",
    "    # code to execute if age is less than 50\n",
    "    print(\"You are middle-aged.\")\n",
    "if (age >= 50):\n",
    "    # code to execute if age is 50 or older\n",
    "    print(\"You are a senior.\")"
   ]
  },
  {
   "cell_type": "markdown",
   "id": "3d1b40be",
   "metadata": {},
   "source": [
    "## 🔹 Why Use `elif` in Python?\n",
    "\n",
    "In Python, `elif` (short for **else if**) is used to **chain multiple conditions together**—especially when only one of them should run.\n",
    "\n",
    "---\n",
    "\n",
    "## 🔹 Why Use `elif`?\n",
    "\n",
    "When you have **mutually exclusive** conditions—meaning **only one** can logically be True at a time—using `elif` is both **clear** and **efficient**:\n",
    "\n",
    "✅ **Efficiency:**  \n",
    "- Python stops checking as soon as it finds the first `True` condition.\n",
    "- This saves time, especially when later conditions involve complex checks or expensive operations (e.g., API calls, file reads, database queries).\n",
    "\n",
    "✅ **Clarity:**  \n",
    "- Shows that the conditions are **related** and that only one block of code should execute.\n",
    "- Makes the code easier to read and understand.\n",
    "\n",
    "---\n",
    "\n",
    "## 🔹 How `elif` Works\n",
    "\n",
    "```python\n",
    "if condition1:\n",
    "    # code if condition1 is True\n",
    "elif condition2:\n",
    "    # code if condition1 is False and condition2 is True\n",
    "elif condition3:\n",
    "    # code if previous conditions are False and condition3 is True\n",
    "else:\n",
    "    # code if all conditions are False\n"
   ]
  },
  {
   "cell_type": "code",
   "execution_count": 18,
   "id": "50e536ab",
   "metadata": {},
   "outputs": [
    {
     "name": "stdout",
     "output_type": "stream",
     "text": [
      "It's warm.\n"
     ]
    }
   ],
   "source": [
    "temperature = 25\n",
    "\n",
    "if temperature < 0:\n",
    "    print(\"It's freezing!\")\n",
    "elif (0 <= temperature < 20):\n",
    "    print(\"It's cold.\")\n",
    "elif (20 <= temperature < 30):\n",
    "    print(\"It's warm.\")\n",
    "else:\n",
    "    print(\"It's hot.\")"
   ]
  }
 ],
 "metadata": {
  "kernelspec": {
   "display_name": "ml_course_403_2",
   "language": "python",
   "name": "python3"
  },
  "language_info": {
   "codemirror_mode": {
    "name": "ipython",
    "version": 3
   },
   "file_extension": ".py",
   "mimetype": "text/x-python",
   "name": "python",
   "nbconvert_exporter": "python",
   "pygments_lexer": "ipython3",
   "version": "3.10.16"
  }
 },
 "nbformat": 4,
 "nbformat_minor": 5
}
