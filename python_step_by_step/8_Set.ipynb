{
 "cells": [
  {
   "cell_type": "markdown",
   "id": "353b4b5e",
   "metadata": {},
   "source": [
    "# Set in Python\n",
    "\n",
    "A **set** is a built-in data type in Python that is used to store multiple items in a single variable. It is an unordered, mutable, and unindexed collection of unique elements. Sets are commonly used for membership testing, removing duplicates, and performing mathematical operations like union, intersection, and difference.\n",
    "\n",
    "## Key Features of Sets:\n",
    "1. **Unordered**: The elements in a set do not have a defined order.\n",
    "2. **Unique Elements**: A set cannot contain duplicate elements.\n",
    "3. **Mutable**: You can add or remove elements from a set.\n",
    "4. **Unindexed**: Sets do not support indexing or slicing.\n",
    "\n",
    "## Creating a Set:\n",
    "You can create a set using curly braces `{}` or the `set()` constructor:"
   ]
  },
  {
   "cell_type": "code",
   "execution_count": null,
   "id": "f0bf1e3a",
   "metadata": {},
   "outputs": [],
   "source": [
    "my_set = {\"John\", 123, 45.67, True}\n",
    "# declare a set with different data types"
   ]
  },
  {
   "cell_type": "markdown",
   "id": "6fa06e12",
   "metadata": {},
   "source": [
    "# Defining Lists or Dictionaries in a Set\n",
    "\n",
    "In Python, sets are collections of unique and immutable elements. However, it is important to note that the elements of a set must be **hashable**. This means that mutable data types like lists and dictionaries cannot be directly added to a set because they are not hashable.\n",
    "\n",
    "## Why Lists or Dictionaries Cannot Be in a Set:\n",
    "1. **Lists**: Lists are mutable, meaning their contents can change after creation. This mutability makes them unhashable and unsuitable for inclusion in a set.\n",
    "2. **Dictionaries**: Similarly, dictionaries are mutable and cannot be added to a set.\n",
    "\n",
    "## Example:"
   ]
  },
  {
   "cell_type": "code",
   "execution_count": 12,
   "id": "b8e5888d",
   "metadata": {},
   "outputs": [
    {
     "data": {
      "text/plain": [
       "'\\nTypeError                                 \\n\\n----> 1 my_set = {\"John\", 123, 45.67, True, [1, 2, 3]}\\n\\nTypeError: unhashable type: \\'list\\'\\n\\n'"
      ]
     },
     "execution_count": 12,
     "metadata": {},
     "output_type": "execute_result"
    }
   ],
   "source": [
    "#my_set = {\"John\", 123, 45.67, True, [1, 2, 3]}\n",
    "\n",
    "'''\n",
    "TypeError                                 \n",
    "\n",
    "----> 1 my_set = {\"John\", 123, 45.67, True, [1, 2, 3]}\n",
    "\n",
    "TypeError: unhashable type: 'list'\n",
    "\n",
    "'''"
   ]
  },
  {
   "cell_type": "code",
   "execution_count": 13,
   "id": "bf21b92d",
   "metadata": {},
   "outputs": [
    {
     "data": {
      "text/plain": [
       "set"
      ]
     },
     "execution_count": 13,
     "metadata": {},
     "output_type": "execute_result"
    }
   ],
   "source": [
    "type(my_set)\n",
    "# set is unordered, unindexed, and unchangeable"
   ]
  },
  {
   "cell_type": "code",
   "execution_count": null,
   "id": "5bfc255a",
   "metadata": {},
   "outputs": [],
   "source": [
    "number_set = set()\n",
    "# declare an empty set"
   ]
  },
  {
   "cell_type": "code",
   "execution_count": null,
   "id": "d8581d80",
   "metadata": {},
   "outputs": [],
   "source": [
    "number_set.add(1)\n",
    "number_set.add(2)\n",
    "number_set.add(3)\n",
    "# add elements to the set"
   ]
  },
  {
   "cell_type": "code",
   "execution_count": null,
   "id": "07b0fca4",
   "metadata": {},
   "outputs": [
    {
     "name": "stdout",
     "output_type": "stream",
     "text": [
      "{1, 2, 3}\n"
     ]
    }
   ],
   "source": [
    "print(number_set)\n"
   ]
  },
  {
   "cell_type": "code",
   "execution_count": 17,
   "id": "58cb87b8",
   "metadata": {},
   "outputs": [],
   "source": [
    "number_set.add(1)\n",
    "number_set.add(2)\n",
    "number_set.add(3)\n",
    "# add duplicate elements to the set"
   ]
  },
  {
   "cell_type": "code",
   "execution_count": 19,
   "id": "d11a9a9f",
   "metadata": {},
   "outputs": [
    {
     "name": "stdout",
     "output_type": "stream",
     "text": [
      "{1, 2, 3}\n"
     ]
    }
   ],
   "source": [
    "print(number_set)\n",
    "# Adding duplicate elements to a set has no effect as sets only store unique elements"
   ]
  },
  {
   "cell_type": "code",
   "execution_count": 23,
   "id": "01e04dcd",
   "metadata": {},
   "outputs": [
    {
     "name": "stdout",
     "output_type": "stream",
     "text": [
      "{True, 123, 45.67, 'John'}\n"
     ]
    }
   ],
   "source": [
    "print(my_set)\n",
    "# The outputs are mixed up between the defined set and the printed set.\n",
    "# This is because sets are unordered collections of unique elements.\n",
    "# The order of elements in a set is not guaranteed to be the same as the order in which they were added."
   ]
  },
  {
   "cell_type": "code",
   "execution_count": 25,
   "id": "f29a4def",
   "metadata": {},
   "outputs": [
    {
     "data": {
      "text/plain": [
       "{123, 2, 3, 45.67, 'John', True}"
      ]
     },
     "execution_count": 25,
     "metadata": {},
     "output_type": "execute_result"
    }
   ],
   "source": [
    "my_set.union(number_set)\n",
    "# The union() method returns a new set with all elements from both sets"
   ]
  },
  {
   "cell_type": "code",
   "execution_count": 31,
   "id": "51f938bd",
   "metadata": {},
   "outputs": [
    {
     "name": "stdout",
     "output_type": "stream",
     "text": [
      "{1}\n"
     ]
    }
   ],
   "source": [
    "print(my_set.intersection(number_set))\n",
    "# The intersection() method returns a new set with elements that are common to both sets\n",
    "# If intersection() method outputs an empty set, it means there are no common elements between the two sets and If the intersection() method outputs a set with elements, it means there are common elements between the two sets\n",
    "# In this case, the intersection() method outputs an 1 because the true value is considered as 1 in Python\n"
   ]
  },
  {
   "cell_type": "code",
   "execution_count": 32,
   "id": "f70bdae5",
   "metadata": {},
   "outputs": [
    {
     "name": "stdout",
     "output_type": "stream",
     "text": [
      "{123, 45.67, 'John'}\n"
     ]
    }
   ],
   "source": [
    "print(my_set.difference(number_set))\n",
    "# The difference() method returns a new set with elements that are in the first set but not in the second set"
   ]
  },
  {
   "cell_type": "code",
   "execution_count": null,
   "id": "73cc2cf7",
   "metadata": {},
   "outputs": [
    {
     "name": "stdout",
     "output_type": "stream",
     "text": [
      "{True, 2, 3, 'John', 123, 45.67}\n"
     ]
    }
   ],
   "source": [
    "#my_set + number_set\n",
    "# The + operator cannot be used to combine sets in Python\n",
    "# TypeError: unsupported operand type(s) for +: 'set' and 'set'\n"
   ]
  },
  {
   "cell_type": "code",
   "execution_count": 35,
   "id": "a3ee75b2",
   "metadata": {},
   "outputs": [
    {
     "name": "stdout",
     "output_type": "stream",
     "text": [
      "{True, 2, 3, 'John', 123, 45.67}\n"
     ]
    }
   ],
   "source": [
    "# To combine sets, you can use the union() method or the | operator\n",
    "print(my_set | number_set)"
   ]
  }
 ],
 "metadata": {
  "kernelspec": {
   "display_name": "ml_course_403_2",
   "language": "python",
   "name": "python3"
  },
  "language_info": {
   "codemirror_mode": {
    "name": "ipython",
    "version": 3
   },
   "file_extension": ".py",
   "mimetype": "text/x-python",
   "name": "python",
   "nbconvert_exporter": "python",
   "pygments_lexer": "ipython3",
   "version": "3.10.16"
  }
 },
 "nbformat": 4,
 "nbformat_minor": 5
}
