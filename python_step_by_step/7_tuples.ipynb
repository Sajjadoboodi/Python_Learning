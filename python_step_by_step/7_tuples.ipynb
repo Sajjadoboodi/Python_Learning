{
 "cells": [
  {
   "cell_type": "markdown",
   "id": "3d171ce5",
   "metadata": {},
   "source": [
    "# Tuples in Python\n",
    "\n",
    "A **tuple** is an immutable sequence type in Python, used to store a collection of items. Tuples are similar to lists, but unlike lists, they cannot be modified after creation. This immutability makes tuples useful for storing data that should not change throughout the program.\n",
    "\n",
    "## Key Characteristics of Tuples:\n",
    "- **Immutable**: Once created, the elements of a tuple cannot be changed, added, or removed.\n",
    "- **Ordered**: Tuples maintain the order of elements, meaning the order in which items are added is preserved.\n",
    "- **Heterogeneous**: Tuples can store elements of different data types (e.g., integers, strings, floats, etc.).\n",
    "- **Hashable**: Tuples can be used as keys in dictionaries if they contain only hashable elements.\n",
    "\n",
    "## Creating Tuples:\n",
    "Tuples are created by placing elements inside parentheses `()` separated by commas. For example:"
   ]
  },
  {
   "cell_type": "code",
   "execution_count": 1,
   "id": "06597395",
   "metadata": {},
   "outputs": [],
   "source": [
    "tuple_example = (1, 2, 3, 3.14, \"have good night\", True)"
   ]
  },
  {
   "cell_type": "code",
   "execution_count": 4,
   "id": "ca8991b5",
   "metadata": {},
   "outputs": [
    {
     "name": "stdout",
     "output_type": "stream",
     "text": [
      "(1, 2, 3, 3.14, 'have good night', True)\n",
      "1\n",
      "True\n"
     ]
    }
   ],
   "source": [
    "print(tuple_example)\n",
    "# Print the first element\n",
    "print(tuple_example[0])\n",
    "# Print the last element\n",
    "print(tuple_example[-1])"
   ]
  }
 ],
 "metadata": {
  "kernelspec": {
   "display_name": "ml_course_403_2",
   "language": "python",
   "name": "python3"
  },
  "language_info": {
   "codemirror_mode": {
    "name": "ipython",
    "version": 3
   },
   "file_extension": ".py",
   "mimetype": "text/x-python",
   "name": "python",
   "nbconvert_exporter": "python",
   "pygments_lexer": "ipython3",
   "version": "3.10.16"
  }
 },
 "nbformat": 4,
 "nbformat_minor": 5
}
