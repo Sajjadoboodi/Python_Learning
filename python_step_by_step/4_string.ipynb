{
 "cells": [
  {
   "cell_type": "code",
   "execution_count": 1,
   "id": "6f59cd9a",
   "metadata": {},
   "outputs": [
    {
     "data": {
      "text/plain": [
       "'Hello my name is Sajad.'"
      ]
     },
     "execution_count": 1,
     "metadata": {},
     "output_type": "execute_result"
    }
   ],
   "source": [
    "\"Hello my name is Sajad.\""
   ]
  },
  {
   "cell_type": "code",
   "execution_count": 2,
   "id": "d39cc05f",
   "metadata": {},
   "outputs": [],
   "source": [
    "message = \"I'm a software engineer with a passion for coding and technology. I enjoy solving complex problems and building innovative solutions. In my free time, I like to explore new programming languages and frameworks, as well as contribute to open-source projects. I'm always eager to learn and grow in my field, and I'm excited about the future of technology.\""
   ]
  },
  {
   "cell_type": "code",
   "execution_count": 3,
   "id": "f52103ae",
   "metadata": {},
   "outputs": [
    {
     "data": {
      "text/plain": [
       "\"I'm a software engineer with a passion for coding and technology. I enjoy solving complex problems and building innovative solutions. In my free time, I like to explore new programming languages and frameworks, as well as contribute to open-source projects. I'm always eager to learn and grow in my field, and I'm excited about the future of technology.\""
      ]
     },
     "execution_count": 3,
     "metadata": {},
     "output_type": "execute_result"
    }
   ],
   "source": [
    "message"
   ]
  },
  {
   "cell_type": "code",
   "execution_count": 4,
   "id": "c0d0ec02",
   "metadata": {},
   "outputs": [
    {
     "name": "stdout",
     "output_type": "stream",
     "text": [
      "I'm a software engineer with a passion for coding and technology. I enjoy solving complex problems and building innovative solutions. In my free time, I like to explore new programming languages and frameworks, as well as contribute to open-source projects. I'm always eager to learn and grow in my field, and I'm excited about the future of technology.\n"
     ]
    }
   ],
   "source": [
    "print(message)\n",
    "# This line prints the value of the variable `message` to the console."
   ]
  },
  {
   "cell_type": "code",
   "execution_count": 5,
   "id": "48ebf75f",
   "metadata": {},
   "outputs": [
    {
     "name": "stdout",
     "output_type": "stream",
     "text": [
      "message\n"
     ]
    }
   ],
   "source": [
    "print(\"message\")\n",
    "#This line prints the string \"message\" to the console, which is not the same as printing the variable `message` that contains the author's description.\n"
   ]
  },
  {
   "cell_type": "code",
   "execution_count": 6,
   "id": "dfefe4c7",
   "metadata": {},
   "outputs": [
    {
     "name": "stdout",
     "output_type": "stream",
     "text": [
      "<class 'str'>\n"
     ]
    }
   ],
   "source": [
    "print(type(message))\n",
    "# This line checks the type of the variable `message` and returns `<class 'str'>`, indicating that `message` is a string."
   ]
  },
  {
   "cell_type": "code",
   "execution_count": 7,
   "id": "9d4aef6d",
   "metadata": {},
   "outputs": [
    {
     "name": "stdout",
     "output_type": "stream",
     "text": [
      "I\n"
     ]
    }
   ],
   "source": [
    "print(message[0])\n",
    "# This line prints the first character of the string `message`."
   ]
  },
  {
   "cell_type": "code",
   "execution_count": 8,
   "id": "00ce842e",
   "metadata": {},
   "outputs": [
    {
     "name": "stdout",
     "output_type": "stream",
     "text": [
      "o\n"
     ]
    }
   ],
   "source": [
    "print(message[7])\n",
    "# This line prints the eighth character of the string `message`.\n",
    "# Space is counted as a character, so the first character is at index 0, the second at index 1, and so on."
   ]
  },
  {
   "cell_type": "code",
   "execution_count": 9,
   "id": "a022d702",
   "metadata": {},
   "outputs": [
    {
     "name": "stdout",
     "output_type": "stream",
     "text": [
      "I'm a\n"
     ]
    }
   ],
   "source": [
    "print(message[0:5])\n",
    "# This line prints the first five characters of the string `message`."
   ]
  },
  {
   "cell_type": "code",
   "execution_count": 10,
   "id": "d0df6ced",
   "metadata": {},
   "outputs": [
    {
     "name": "stdout",
     "output_type": "stream",
     "text": [
      "I'm a software \n"
     ]
    }
   ],
   "source": [
    "print(message[:15])\n",
    "# This line prints the first fifteen characters of the string `message`.\n",
    "# This is equivalent to `message[0:15]`, which also prints the first fifteen characters."
   ]
  },
  {
   "cell_type": "code",
   "execution_count": 11,
   "id": "1357015c",
   "metadata": {},
   "outputs": [
    {
     "name": "stdout",
     "output_type": "stream",
     "text": [
      "eer with a passion for coding and technology. I enjoy solving complex problems and building innovative solutions. In my free time, I like to explore new programming languages and frameworks, as well as contribute to open-source projects. I'm always eager to learn and grow in my field, and I'm excited about the future of technology.\n"
     ]
    }
   ],
   "source": [
    "print(message[20:])\n",
    "# This line prints the substring of `message` starting from the 21st character to the end of the string.\n",
    "# The colon `:` indicates that we want to include everything from index 20 to the end of the string."
   ]
  },
  {
   "cell_type": "code",
   "execution_count": 12,
   "id": "e98cb0af",
   "metadata": {},
   "outputs": [
    {
     "name": "stdout",
     "output_type": "stream",
     "text": [
      ".\n"
     ]
    }
   ],
   "source": [
    "print(message[-1])\n",
    "# This line prints the last character of the string `message`.\n",
    "# Negative indexing allows us to access characters from the end of the string, where -1 refers to the last character, -2 to the second last, and so on."
   ]
  },
  {
   "cell_type": "code",
   "execution_count": 13,
   "id": "99497ddf",
   "metadata": {},
   "outputs": [
    {
     "name": "stdout",
     "output_type": "stream",
     "text": [
      "technology\n"
     ]
    }
   ],
   "source": [
    "print(message[-11 : -1])\n",
    "# This line prints the substring of `message` starting from the 11th character from the end to the second last character.\n",
    "# The negative index -11 refers to the 11th character from the end, and -1 refers to the last character, which is not included in the output.\n"
   ]
  },
  {
   "cell_type": "code",
   "execution_count": 14,
   "id": "76be00c9",
   "metadata": {},
   "outputs": [
    {
     "name": "stdout",
     "output_type": "stream",
     "text": [
      "sfwr \n"
     ]
    }
   ],
   "source": [
    "print(message[6 : 15 : 2])\n",
    "# This line prints every 2nd character from the substring of `message` starting from the 7th character (index 6) to the 15th character (index 14).\n",
    "# The output will include the characters at index 6, 8, 10, 12, and 14, which are 'a', ' ', 'e', ' ', and 's', respectively."
   ]
  },
  {
   "cell_type": "code",
   "execution_count": 15,
   "id": "ec97f635",
   "metadata": {},
   "outputs": [],
   "source": [
    "number = \"0123456789\""
   ]
  },
  {
   "cell_type": "code",
   "execution_count": 16,
   "id": "5700f2ed",
   "metadata": {},
   "outputs": [
    {
     "name": "stdout",
     "output_type": "stream",
     "text": [
      "9876543210\n"
     ]
    }
   ],
   "source": [
    "print(number[::-1])\n",
    "# This line prints the string `number` in reverse order."
   ]
  },
  {
   "cell_type": "code",
   "execution_count": 5,
   "id": "e801c6b3",
   "metadata": {},
   "outputs": [],
   "source": [
    "Message = \"\"\" \n",
    "    Hi there!\n",
    "    I'm Sajad, a software engineer with a passion for coding and technology.\n",
    "    I enjoy solving complex problems and building innovative solutions.\n",
    "    In my free time, I like to explore new programming languages and frameworks, as well as contribute to open-source projects. \n",
    "    I'm always eager to learn and grow in my field, and I'm excited about the future of technology.\n",
    "    I hope to connect with like-minded individuals and share knowledge and experiences. Let's collaborate and create something amazing together!\n",
    "\"\"\""
   ]
  },
  {
   "cell_type": "code",
   "execution_count": null,
   "id": "fbfd7e75",
   "metadata": {},
   "outputs": [
    {
     "name": "stdout",
     "output_type": "stream",
     "text": [
      " \n",
      "    Hi there!\n",
      "    I'm Sajad, a software engineer with a passion for coding and technology.\n",
      "    I enjoy solving complex problems and building innovative solutions.\n",
      "    In my free time, I like to explore new programming languages and frameworks, as well as contribute to open-source projects. \n",
      "    I'm always eager to learn and grow in my field, and I'm excited about the future of technology.\n",
      "    I hope to connect with like-minded individuals and share knowledge and experiences. Let's collaborate and create something amazing together!\n",
      "\n"
     ]
    }
   ],
   "source": [
    "print(Message)\n",
    "# This line prints the multi-line string `Message` to the console.\n",
    "# The triple quotes `\"\"\"` allow us to create a string that spans multiple lines, making it easier to read and format."
   ]
  },
  {
   "cell_type": "code",
   "execution_count": 7,
   "id": "3dffa96f",
   "metadata": {},
   "outputs": [
    {
     "name": "stdout",
     "output_type": "stream",
     "text": [
      "Hello my name is Sajad.\n",
      " I'm a electrical engineer.\n",
      " I love coding and working on machine learning projects.\n"
     ]
    }
   ],
   "source": [
    "print(\"Hello my name is Sajad.\\n I'm a electrical engineer.\\n I love coding and working on machine learning projects.\")\n",
    "# This line prints a multi-line string to the console using the newline character `\\n` to separate each line.\n",
    "# The output will include three lines: \"Hello my name is Sajad.\", \"I'm a electrical engineer.\", and \"I love coding and working on machine learning projects.\"\n",
    "# The newline character `\\n` is used to create line breaks in the output, making it easier to read and understand."
   ]
  },
  {
   "cell_type": "code",
   "execution_count": 9,
   "id": "5b29edcc",
   "metadata": {},
   "outputs": [
    {
     "name": "stdout",
     "output_type": "stream",
     "text": [
      "s\n"
     ]
    }
   ],
   "source": [
    "name = \"sajad\"\n",
    "print(name[0])\n",
    "# This line prints the first character of the string `name`, which is 's'."
   ]
  },
  {
   "cell_type": "code",
   "execution_count": 10,
   "id": "7ecdc126",
   "metadata": {},
   "outputs": [
    {
     "ename": "TypeError",
     "evalue": "'str' object does not support item assignment",
     "output_type": "error",
     "traceback": [
      "\u001b[1;31m---------------------------------------------------------------------------\u001b[0m",
      "\u001b[1;31mTypeError\u001b[0m                                 Traceback (most recent call last)",
      "Cell \u001b[1;32mIn[10], line 1\u001b[0m\n\u001b[1;32m----> 1\u001b[0m \u001b[43mname\u001b[49m\u001b[43m[\u001b[49m\u001b[38;5;241;43m0\u001b[39;49m\u001b[43m]\u001b[49m \u001b[38;5;241m=\u001b[39m \u001b[38;5;124m\"\u001b[39m\u001b[38;5;124mS\u001b[39m\u001b[38;5;124m\"\u001b[39m\n\u001b[0;32m      2\u001b[0m \u001b[38;5;66;03m# This line will raise an error because strings in Python are immutable, meaning we cannot change individual characters in a string.\u001b[39;00m\n",
      "\u001b[1;31mTypeError\u001b[0m: 'str' object does not support item assignment"
     ]
    }
   ],
   "source": [
    "name[0] = \"S\"\n",
    "# This line will raise an error because strings in Python are immutable, meaning we cannot change individual characters in a string."
   ]
  },
  {
   "cell_type": "code",
   "execution_count": 13,
   "id": "6255bed3",
   "metadata": {},
   "outputs": [
    {
     "name": "stdout",
     "output_type": "stream",
     "text": [
      "Sajad\n",
      "sajad\n"
     ]
    }
   ],
   "source": [
    "replace_name = name.replace(\"s\", \"S\")\n",
    "print(replace_name)\n",
    "# This line creates a new string `replace_name` by replacing the first occurrence of 's' with 'S' in the string `name`.\n",
    "print(name)\n",
    "# This line prints the original string `name`, which remains unchanged because strings are immutable in Python.\n",
    "# The output will show that `replace_name` is \"Sajad\", while `name` remains \"sajad\"."
   ]
  },
  {
   "cell_type": "code",
   "execution_count": 15,
   "id": "8e82ecae",
   "metadata": {},
   "outputs": [
    {
     "name": "stdout",
     "output_type": "stream",
     "text": [
      "Sajad Sajadi\n"
     ]
    }
   ],
   "source": [
    "name = \"sajad sajadi\"\n",
    "replace_name = name.replace(\"s\", \"S\")\n",
    "print(replace_name)\n",
    "# This line creates a new string `replace_name` by replacing all occurrences of 's' with 'S' in the string `name`.\n"
   ]
  },
  {
   "cell_type": "code",
   "execution_count": 17,
   "id": "d29de7de",
   "metadata": {},
   "outputs": [
    {
     "name": "stdout",
     "output_type": "stream",
     "text": [
      "sajad sajadi\n",
      "Sajad\n"
     ]
    }
   ],
   "source": [
    "print(name)\n",
    "name = 'S' + name[1:5]\n",
    "print(name)\n",
    "# This line creates a new string `name` by concatenating 'S' with the substring of `name` starting from the second character (index 1) to the fifth character (index 4)."
   ]
  },
  {
   "cell_type": "code",
   "execution_count": 18,
   "id": "0c539b61",
   "metadata": {},
   "outputs": [
    {
     "name": "stdout",
     "output_type": "stream",
     "text": [
      "SajadSajadSajad\n"
     ]
    }
   ],
   "source": [
    "print(name*3)\n",
    "# This line prints the string `name` three times in a row, creating a repeated output."
   ]
  },
  {
   "cell_type": "code",
   "execution_count": 25,
   "id": "447c82d1",
   "metadata": {},
   "outputs": [
    {
     "name": "stdout",
     "output_type": "stream",
     "text": [
      "**\n",
      "****\n",
      "******\n",
      "********\n",
      "**********\n",
      "************\n",
      "**************\n",
      "****************\n",
      "******************\n"
     ]
    }
   ],
   "source": [
    "# This part of the code is just for fun and not intended for learning purposes. :))\n",
    "\n",
    "for i in range(1, 10):\n",
    "    print('*'*(2*i))\n",
    "    \n",
    "# This loop iterates from 1 to 9 (inclusive) and prints asterisks in a pyramid-like pattern.\n",
    "# The expression '*'*(2*i) creates a string of asterisks with a length of 2*i, where i is the current iteration index."
   ]
  },
  {
   "cell_type": "code",
   "execution_count": 27,
   "id": "318ced13",
   "metadata": {},
   "outputs": [
    {
     "name": "stdout",
     "output_type": "stream",
     "text": [
      "         *\n",
      "        ***\n",
      "       *****\n",
      "      *******\n",
      "     *********\n",
      "    ***********\n",
      "   *************\n",
      "  ***************\n",
      " *****************\n"
     ]
    }
   ],
   "source": [
    "for i in range(1, 10):\n",
    "    print(' ' * (10 - i) + '*' * (2 * i - 1))\n",
    "    \n",
    "# This loop iterates from 1 to 9 (inclusive) and prints asterisks in a pyramid-like pattern with spaces on the left.\n",
    "# The expression ' ' * (10 - i) creates a string of spaces with a length of 10 - i, where i is the current iteration index.\n",
    "# The expression '*' * (2 * i - 1) creates a string of asterisks with a length of 2*i - 1, which gives the pyramid shape.\n",
    "# The combination of spaces and asterisks creates a centered pyramid shape."
   ]
  },
  {
   "cell_type": "code",
   "execution_count": 32,
   "id": "d9a4b14e",
   "metadata": {},
   "outputs": [
    {
     "name": "stdout",
     "output_type": "stream",
     "text": [
      "Hello\tSajad\n",
      "Hello\tSamson\n",
      "Hello\tRobert\n"
     ]
    }
   ],
   "source": [
    "greeting = \"Hello\"\n",
    "print(greeting+\"\\t\"+name)\n",
    "# This line prints the string `greeting` followed by a tab character `\\t` and then the string `name`.\n",
    "# The tab character `\\t` creates a horizontal space between the two strings, making the output more visually appealing.\n",
    "print(greeting + \"\\t\" + \"Samson\")\n",
    "print(greeting + \"\\t\" + \"Robert\")\n",
    "# The tab character `\\t` creates a horizontal regular space between the two strings, making the output more readable."
   ]
  },
  {
   "cell_type": "code",
   "execution_count": 35,
   "id": "1c642604",
   "metadata": {},
   "outputs": [
    {
     "data": {
      "text/plain": [
       "str"
      ]
     },
     "execution_count": 35,
     "metadata": {},
     "output_type": "execute_result"
    }
   ],
   "source": [
    "type(name)\n",
    "# This line checks the type of the variable `name` and returns `<class 'str'>`, indicating that `name` is a string."
   ]
  },
  {
   "cell_type": "code",
   "execution_count": 34,
   "id": "0480bf60",
   "metadata": {},
   "outputs": [
    {
     "name": "stdout",
     "output_type": "stream",
     "text": [
      "<class 'str'>\n"
     ]
    }
   ],
   "source": [
    "print(type(name))\n",
    "# This line checks the type of the variable `name` and returns `<class 'str'>`, indicating that `name` is a string.\n",
    "# Different from the previous line, this line prints the type of `name` to the console."
   ]
  }
 ],
 "metadata": {
  "kernelspec": {
   "display_name": "ml_course_403_2",
   "language": "python",
   "name": "python3"
  },
  "language_info": {
   "codemirror_mode": {
    "name": "ipython",
    "version": 3
   },
   "file_extension": ".py",
   "mimetype": "text/x-python",
   "name": "python",
   "nbconvert_exporter": "python",
   "pygments_lexer": "ipython3",
   "version": "3.10.16"
  }
 },
 "nbformat": 4,
 "nbformat_minor": 5
}
