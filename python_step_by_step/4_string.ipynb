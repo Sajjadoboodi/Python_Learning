{
 "cells": [
  {
   "cell_type": "code",
   "execution_count": 1,
   "id": "6f59cd9a",
   "metadata": {},
   "outputs": [
    {
     "data": {
      "text/plain": [
       "'Hello my name is Sajad.'"
      ]
     },
     "execution_count": 1,
     "metadata": {},
     "output_type": "execute_result"
    }
   ],
   "source": [
    "\"Hello my name is Sajad.\""
   ]
  },
  {
   "cell_type": "code",
   "execution_count": 2,
   "id": "d39cc05f",
   "metadata": {},
   "outputs": [],
   "source": [
    "message = \"I'm a software engineer with a passion for coding and technology. I enjoy solving complex problems and building innovative solutions. In my free time, I like to explore new programming languages and frameworks, as well as contribute to open-source projects. I'm always eager to learn and grow in my field, and I'm excited about the future of technology.\""
   ]
  },
  {
   "cell_type": "code",
   "execution_count": 3,
   "id": "f52103ae",
   "metadata": {},
   "outputs": [
    {
     "data": {
      "text/plain": [
       "\"I'm a software engineer with a passion for coding and technology. I enjoy solving complex problems and building innovative solutions. In my free time, I like to explore new programming languages and frameworks, as well as contribute to open-source projects. I'm always eager to learn and grow in my field, and I'm excited about the future of technology.\""
      ]
     },
     "execution_count": 3,
     "metadata": {},
     "output_type": "execute_result"
    }
   ],
   "source": [
    "message"
   ]
  },
  {
   "cell_type": "code",
   "execution_count": 4,
   "id": "c0d0ec02",
   "metadata": {},
   "outputs": [
    {
     "name": "stdout",
     "output_type": "stream",
     "text": [
      "I'm a software engineer with a passion for coding and technology. I enjoy solving complex problems and building innovative solutions. In my free time, I like to explore new programming languages and frameworks, as well as contribute to open-source projects. I'm always eager to learn and grow in my field, and I'm excited about the future of technology.\n"
     ]
    }
   ],
   "source": [
    "print(message)\n",
    "# This line prints the value of the variable `message` to the console."
   ]
  },
  {
   "cell_type": "code",
   "execution_count": 5,
   "id": "48ebf75f",
   "metadata": {},
   "outputs": [
    {
     "name": "stdout",
     "output_type": "stream",
     "text": [
      "message\n"
     ]
    }
   ],
   "source": [
    "print(\"message\")\n",
    "#This line prints the string \"message\" to the console, which is not the same as printing the variable `message` that contains the author's description.\n"
   ]
  },
  {
   "cell_type": "code",
   "execution_count": 6,
   "id": "dfefe4c7",
   "metadata": {},
   "outputs": [
    {
     "name": "stdout",
     "output_type": "stream",
     "text": [
      "<class 'str'>\n"
     ]
    }
   ],
   "source": [
    "print(type(message))\n",
    "# This line checks the type of the variable `message` and returns `<class 'str'>`, indicating that `message` is a string."
   ]
  },
  {
   "cell_type": "code",
   "execution_count": 7,
   "id": "9d4aef6d",
   "metadata": {},
   "outputs": [
    {
     "name": "stdout",
     "output_type": "stream",
     "text": [
      "I\n"
     ]
    }
   ],
   "source": [
    "print(message[0])\n",
    "# This line prints the first character of the string `message`."
   ]
  },
  {
   "cell_type": "code",
   "execution_count": 8,
   "id": "00ce842e",
   "metadata": {},
   "outputs": [
    {
     "name": "stdout",
     "output_type": "stream",
     "text": [
      "o\n"
     ]
    }
   ],
   "source": [
    "print(message[7])\n",
    "# This line prints the eighth character of the string `message`.\n",
    "# Space is counted as a character, so the first character is at index 0, the second at index 1, and so on."
   ]
  },
  {
   "cell_type": "code",
   "execution_count": 9,
   "id": "a022d702",
   "metadata": {},
   "outputs": [
    {
     "name": "stdout",
     "output_type": "stream",
     "text": [
      "I'm a\n"
     ]
    }
   ],
   "source": [
    "print(message[0:5])\n",
    "# This line prints the first five characters of the string `message`."
   ]
  },
  {
   "cell_type": "code",
   "execution_count": 10,
   "id": "d0df6ced",
   "metadata": {},
   "outputs": [
    {
     "name": "stdout",
     "output_type": "stream",
     "text": [
      "I'm a software \n"
     ]
    }
   ],
   "source": [
    "print(message[:15])\n",
    "# This line prints the first fifteen characters of the string `message`.\n",
    "# This is equivalent to `message[0:15]`, which also prints the first fifteen characters."
   ]
  },
  {
   "cell_type": "code",
   "execution_count": 11,
   "id": "1357015c",
   "metadata": {},
   "outputs": [
    {
     "name": "stdout",
     "output_type": "stream",
     "text": [
      "eer with a passion for coding and technology. I enjoy solving complex problems and building innovative solutions. In my free time, I like to explore new programming languages and frameworks, as well as contribute to open-source projects. I'm always eager to learn and grow in my field, and I'm excited about the future of technology.\n"
     ]
    }
   ],
   "source": [
    "print(message[20:])\n",
    "# This line prints the substring of `message` starting from the 21st character to the end of the string.\n",
    "# The colon `:` indicates that we want to include everything from index 20 to the end of the string."
   ]
  },
  {
   "cell_type": "code",
   "execution_count": 12,
   "id": "e98cb0af",
   "metadata": {},
   "outputs": [
    {
     "name": "stdout",
     "output_type": "stream",
     "text": [
      ".\n"
     ]
    }
   ],
   "source": [
    "print(message[-1])\n",
    "# This line prints the last character of the string `message`.\n",
    "# Negative indexing allows us to access characters from the end of the string, where -1 refers to the last character, -2 to the second last, and so on."
   ]
  },
  {
   "cell_type": "code",
   "execution_count": 13,
   "id": "99497ddf",
   "metadata": {},
   "outputs": [
    {
     "name": "stdout",
     "output_type": "stream",
     "text": [
      "technology\n"
     ]
    }
   ],
   "source": [
    "print(message[-11 : -1])\n",
    "# This line prints the substring of `message` starting from the 11th character from the end to the second last character.\n",
    "# The negative index -11 refers to the 11th character from the end, and -1 refers to the last character, which is not included in the output.\n"
   ]
  },
  {
   "cell_type": "code",
   "execution_count": 14,
   "id": "76be00c9",
   "metadata": {},
   "outputs": [
    {
     "name": "stdout",
     "output_type": "stream",
     "text": [
      "sfwr \n"
     ]
    }
   ],
   "source": [
    "print(message[6 : 15 : 2])\n",
    "# This line prints every 2nd character from the substring of `message` starting from the 7th character (index 6) to the 15th character (index 14).\n",
    "# The output will include the characters at index 6, 8, 10, 12, and 14, which are 'a', ' ', 'e', ' ', and 's', respectively."
   ]
  },
  {
   "cell_type": "code",
   "execution_count": 15,
   "id": "ec97f635",
   "metadata": {},
   "outputs": [],
   "source": [
    "number = \"0123456789\""
   ]
  },
  {
   "cell_type": "code",
   "execution_count": 16,
   "id": "5700f2ed",
   "metadata": {},
   "outputs": [
    {
     "name": "stdout",
     "output_type": "stream",
     "text": [
      "9876543210\n"
     ]
    }
   ],
   "source": [
    "print(number[::-1])\n",
    "# This line prints the string `number` in reverse order."
   ]
  },
  {
   "cell_type": "code",
   "execution_count": 17,
   "id": "e801c6b3",
   "metadata": {},
   "outputs": [],
   "source": [
    "Message = \"\"\" \n",
    "    Hi there!\n",
    "    I'm Sajad, a software engineer with a passion for coding and technology.\n",
    "    I enjoy solving complex problems and building innovative solutions.\n",
    "    In my free time, I like to explore new programming languages and frameworks, as well as contribute to open-source projects. \n",
    "    I'm always eager to learn and grow in my field, and I'm excited about the future of technology.\n",
    "    I hope to connect with like-minded individuals and share knowledge and experiences. Let's collaborate and create something amazing together!\n",
    "\"\"\""
   ]
  },
  {
   "cell_type": "code",
   "execution_count": 18,
   "id": "fbfd7e75",
   "metadata": {},
   "outputs": [
    {
     "name": "stdout",
     "output_type": "stream",
     "text": [
      " \n",
      "    Hi there!\n",
      "    I'm Sajad, a software engineer with a passion for coding and technology.\n",
      "    I enjoy solving complex problems and building innovative solutions.\n",
      "    In my free time, I like to explore new programming languages and frameworks, as well as contribute to open-source projects. \n",
      "    I'm always eager to learn and grow in my field, and I'm excited about the future of technology.\n",
      "    I hope to connect with like-minded individuals and share knowledge and experiences. Let's collaborate and create something amazing together!\n",
      "\n"
     ]
    }
   ],
   "source": [
    "print(Message)\n",
    "# This line prints the multi-line string `Message` to the console.\n",
    "# The triple quotes `\"\"\"` allow us to create a string that spans multiple lines, making it easier to read and format."
   ]
  },
  {
   "cell_type": "code",
   "execution_count": 19,
   "id": "3dffa96f",
   "metadata": {},
   "outputs": [
    {
     "name": "stdout",
     "output_type": "stream",
     "text": [
      "Hello my name is Sajad.\n",
      " I'm a electrical engineer.\n",
      " I love coding and working on machine learning projects.\n"
     ]
    }
   ],
   "source": [
    "print(\"Hello my name is Sajad.\\n I'm a electrical engineer.\\n I love coding and working on machine learning projects.\")\n",
    "# This line prints a multi-line string to the console using the newline character `\\n` to separate each line.\n",
    "# The output will include three lines: \"Hello my name is Sajad.\", \"I'm a electrical engineer.\", and \"I love coding and working on machine learning projects.\"\n",
    "# The newline character `\\n` is used to create line breaks in the output, making it easier to read and understand."
   ]
  },
  {
   "cell_type": "code",
   "execution_count": 20,
   "id": "5b29edcc",
   "metadata": {},
   "outputs": [
    {
     "name": "stdout",
     "output_type": "stream",
     "text": [
      "s\n"
     ]
    }
   ],
   "source": [
    "name = \"sajad\"\n",
    "print(name[0])\n",
    "# This line prints the first character of the string `name`, which is 's'."
   ]
  },
  {
   "cell_type": "code",
   "execution_count": 21,
   "id": "7ecdc126",
   "metadata": {},
   "outputs": [
    {
     "ename": "TypeError",
     "evalue": "'str' object does not support item assignment",
     "output_type": "error",
     "traceback": [
      "\u001b[1;31m---------------------------------------------------------------------------\u001b[0m",
      "\u001b[1;31mTypeError\u001b[0m                                 Traceback (most recent call last)",
      "Cell \u001b[1;32mIn[21], line 1\u001b[0m\n\u001b[1;32m----> 1\u001b[0m \u001b[43mname\u001b[49m\u001b[43m[\u001b[49m\u001b[38;5;241;43m0\u001b[39;49m\u001b[43m]\u001b[49m \u001b[38;5;241m=\u001b[39m \u001b[38;5;124m\"\u001b[39m\u001b[38;5;124mS\u001b[39m\u001b[38;5;124m\"\u001b[39m\n\u001b[0;32m      2\u001b[0m \u001b[38;5;66;03m# This line will raise an error because strings in Python are immutable, meaning we cannot change individual characters in a string.\u001b[39;00m\n",
      "\u001b[1;31mTypeError\u001b[0m: 'str' object does not support item assignment"
     ]
    }
   ],
   "source": [
    "name[0] = \"S\"\n",
    "# This line will raise an error because strings in Python are immutable, meaning we cannot change individual characters in a string."
   ]
  },
  {
   "cell_type": "code",
   "execution_count": 22,
   "id": "6255bed3",
   "metadata": {},
   "outputs": [
    {
     "name": "stdout",
     "output_type": "stream",
     "text": [
      "Sajad\n",
      "sajad\n"
     ]
    }
   ],
   "source": [
    "replace_name = name.replace(\"s\", \"S\")\n",
    "print(replace_name)\n",
    "# This line creates a new string `replace_name` by replacing the first occurrence of 's' with 'S' in the string `name`.\n",
    "print(name)\n",
    "# This line prints the original string `name`, which remains unchanged because strings are immutable in Python.\n",
    "# The output will show that `replace_name` is \"Sajad\", while `name` remains \"sajad\"."
   ]
  },
  {
   "cell_type": "code",
   "execution_count": 23,
   "id": "8e82ecae",
   "metadata": {},
   "outputs": [
    {
     "name": "stdout",
     "output_type": "stream",
     "text": [
      "Sajad Sajadi\n"
     ]
    }
   ],
   "source": [
    "name = \"sajad sajadi\"\n",
    "replace_name = name.replace(\"s\", \"S\")\n",
    "print(replace_name)\n",
    "# This line creates a new string `replace_name` by replacing all occurrences of 's' with 'S' in the string `name`.\n"
   ]
  },
  {
   "cell_type": "code",
   "execution_count": 24,
   "id": "d29de7de",
   "metadata": {},
   "outputs": [
    {
     "name": "stdout",
     "output_type": "stream",
     "text": [
      "sajad sajadi\n",
      "Sajad\n"
     ]
    }
   ],
   "source": [
    "print(name)\n",
    "name = 'S' + name[1:5]\n",
    "print(name)\n",
    "# This line creates a new string `name` by concatenating 'S' with the substring of `name` starting from the second character (index 1) to the fifth character (index 4)."
   ]
  },
  {
   "cell_type": "code",
   "execution_count": 25,
   "id": "0c539b61",
   "metadata": {},
   "outputs": [
    {
     "name": "stdout",
     "output_type": "stream",
     "text": [
      "SajadSajadSajad\n"
     ]
    }
   ],
   "source": [
    "print(name*3)\n",
    "# This line prints the string `name` three times in a row, creating a repeated output."
   ]
  },
  {
   "cell_type": "code",
   "execution_count": 26,
   "id": "447c82d1",
   "metadata": {},
   "outputs": [
    {
     "name": "stdout",
     "output_type": "stream",
     "text": [
      "**\n",
      "****\n",
      "******\n",
      "********\n",
      "**********\n",
      "************\n",
      "**************\n",
      "****************\n",
      "******************\n"
     ]
    }
   ],
   "source": [
    "# This part of the code is just for fun and not intended for learning purposes. :))\n",
    "\n",
    "for i in range(1, 10):\n",
    "    print('*'*(2*i))\n",
    "    \n",
    "# This loop iterates from 1 to 9 (inclusive) and prints asterisks in a pyramid-like pattern.\n",
    "# The expression '*'*(2*i) creates a string of asterisks with a length of 2*i, where i is the current iteration index."
   ]
  },
  {
   "cell_type": "code",
   "execution_count": 27,
   "id": "318ced13",
   "metadata": {},
   "outputs": [
    {
     "name": "stdout",
     "output_type": "stream",
     "text": [
      "         *\n",
      "        ***\n",
      "       *****\n",
      "      *******\n",
      "     *********\n",
      "    ***********\n",
      "   *************\n",
      "  ***************\n",
      " *****************\n"
     ]
    }
   ],
   "source": [
    "for i in range(1, 10):\n",
    "    print(' ' * (10 - i) + '*' * (2 * i - 1))\n",
    "    \n",
    "# This loop iterates from 1 to 9 (inclusive) and prints asterisks in a pyramid-like pattern with spaces on the left.\n",
    "# The expression ' ' * (10 - i) creates a string of spaces with a length of 10 - i, where i is the current iteration index.\n",
    "# The expression '*' * (2 * i - 1) creates a string of asterisks with a length of 2*i - 1, which gives the pyramid shape.\n",
    "# The combination of spaces and asterisks creates a centered pyramid shape."
   ]
  },
  {
   "cell_type": "code",
   "execution_count": 28,
   "id": "d9a4b14e",
   "metadata": {},
   "outputs": [
    {
     "name": "stdout",
     "output_type": "stream",
     "text": [
      "Hello\tSajad\n",
      "Hello\tSamson\n",
      "Hello\tRobert\n"
     ]
    }
   ],
   "source": [
    "greeting = \"Hello\"\n",
    "print(greeting+\"\\t\"+name)\n",
    "# This line prints the string `greeting` followed by a tab character `\\t` and then the string `name`.\n",
    "# The tab character `\\t` creates a horizontal space between the two strings, making the output more visually appealing.\n",
    "print(greeting + \"\\t\" + \"Samson\")\n",
    "print(greeting + \"\\t\" + \"Robert\")\n",
    "# The tab character `\\t` creates a horizontal regular space between the two strings, making the output more readable."
   ]
  },
  {
   "cell_type": "code",
   "execution_count": 29,
   "id": "1c642604",
   "metadata": {},
   "outputs": [
    {
     "data": {
      "text/plain": [
       "str"
      ]
     },
     "execution_count": 29,
     "metadata": {},
     "output_type": "execute_result"
    }
   ],
   "source": [
    "type(name)\n",
    "# This line checks the type of the variable `name` and returns `<class 'str'>`, indicating that `name` is a string."
   ]
  },
  {
   "cell_type": "code",
   "execution_count": 30,
   "id": "0480bf60",
   "metadata": {},
   "outputs": [
    {
     "name": "stdout",
     "output_type": "stream",
     "text": [
      "<class 'str'>\n"
     ]
    }
   ],
   "source": [
    "print(type(name))\n",
    "# This line checks the type of the variable `name` and returns `<class 'str'>`, indicating that `name` is a string.\n",
    "# Different from the previous line, this line prints the type of `name` to the console."
   ]
  },
  {
   "cell_type": "code",
   "execution_count": 31,
   "id": "59456bc0",
   "metadata": {},
   "outputs": [
    {
     "data": {
      "text/plain": [
       "int"
      ]
     },
     "execution_count": 31,
     "metadata": {},
     "output_type": "execute_result"
    }
   ],
   "source": [
    "type(2)"
   ]
  },
  {
   "cell_type": "code",
   "execution_count": 32,
   "id": "5f7faf0f",
   "metadata": {},
   "outputs": [
    {
     "data": {
      "text/plain": [
       "str"
      ]
     },
     "execution_count": 32,
     "metadata": {},
     "output_type": "execute_result"
    }
   ],
   "source": [
    "type('2')\n",
    "# This line checks the type of the string '2' and returns `<class 'str'>`, indicating that '2' is a string.\n",
    "# Different from the previous line, this line checks the type of a string '2' instead of an integer 2.\n"
   ]
  },
  {
   "cell_type": "code",
   "execution_count": 33,
   "id": "28c81e7c",
   "metadata": {},
   "outputs": [
    {
     "name": "stdout",
     "output_type": "stream",
     "text": [
      "5\n"
     ]
    }
   ],
   "source": [
    "print(2+3)"
   ]
  },
  {
   "cell_type": "code",
   "execution_count": 34,
   "id": "8d24fa28",
   "metadata": {},
   "outputs": [
    {
     "name": "stdout",
     "output_type": "stream",
     "text": [
      "23\n"
     ]
    }
   ],
   "source": [
    "print('2'+'3')\n",
    "# This line concatenates the strings '2' and '3' and prints the result, which is '23'.\n",
    "# The plus operator `+` is used for both addition (for numbers) and concatenation (for strings).\n",
    "# Different from the previous line, this line concatenates two strings instead of adding two numbers."
   ]
  },
  {
   "cell_type": "code",
   "execution_count": 35,
   "id": "70f92011",
   "metadata": {},
   "outputs": [
    {
     "data": {
      "text/plain": [
       "'       Sajad        '"
      ]
     },
     "execution_count": 35,
     "metadata": {},
     "output_type": "execute_result"
    }
   ],
   "source": [
    "name.center(20)\n",
    "# This line centers the string `name` within a field of width 20 characters.\n",
    "# The `center` method adds spaces on both sides of the string to make it centered within the specified width."
   ]
  },
  {
   "cell_type": "code",
   "execution_count": 36,
   "id": "cfeead9d",
   "metadata": {},
   "outputs": [
    {
     "name": "stdout",
     "output_type": "stream",
     "text": [
      "Sajad\n"
     ]
    }
   ],
   "source": [
    "print(name)"
   ]
  },
  {
   "cell_type": "code",
   "execution_count": 37,
   "id": "3519cbfd",
   "metadata": {},
   "outputs": [
    {
     "data": {
      "text/plain": [
       "'Sajad'"
      ]
     },
     "execution_count": 37,
     "metadata": {},
     "output_type": "execute_result"
    }
   ],
   "source": [
    "name = \"sajad\"\n",
    "name.capitalize()\n",
    "# This line capitalizes the first character of the string `name` and returns a new string with the first character in uppercase and the rest in lowercase.  "
   ]
  },
  {
   "cell_type": "code",
   "execution_count": 38,
   "id": "164b804b",
   "metadata": {},
   "outputs": [
    {
     "name": "stdout",
     "output_type": "stream",
     "text": [
      "sajad\n"
     ]
    }
   ],
   "source": [
    "print(name)"
   ]
  },
  {
   "cell_type": "code",
   "execution_count": 39,
   "id": "8337bfd3",
   "metadata": {},
   "outputs": [
    {
     "data": {
      "text/plain": [
       "'sajad               '"
      ]
     },
     "execution_count": 39,
     "metadata": {},
     "output_type": "execute_result"
    }
   ],
   "source": [
    "name.ljust(20)\n",
    "# This line left-justifies the string `name` within a field of width 20 characters."
   ]
  },
  {
   "cell_type": "code",
   "execution_count": 40,
   "id": "b2b24dc7",
   "metadata": {},
   "outputs": [
    {
     "name": "stdout",
     "output_type": "stream",
     "text": [
      "SAJAD\n"
     ]
    }
   ],
   "source": [
    "name = name.upper()\n",
    "# This line converts the string `name` to uppercase and returns a new string with all characters in uppercase.\n",
    "print(name)"
   ]
  },
  {
   "cell_type": "code",
   "execution_count": 41,
   "id": "a2c5ae82",
   "metadata": {},
   "outputs": [
    {
     "name": "stdout",
     "output_type": "stream",
     "text": [
      "sajad\n"
     ]
    }
   ],
   "source": [
    "name = name.lower()\n",
    "# This line converts the string `name` to lowercase and returns a new string with all characters in lowercase.\n",
    "print(name)"
   ]
  },
  {
   "cell_type": "code",
   "execution_count": 44,
   "id": "9ba044c3",
   "metadata": {},
   "outputs": [
    {
     "name": "stdout",
     "output_type": "stream",
     "text": [
      "Sajad\n",
      "sajad\n"
     ]
    }
   ],
   "source": [
    "name = name.capitalize()\n",
    "# This line capitalizes the first character of the string `name` and returns a new string with the first character in uppercase and the rest in lowercase.\n",
    "print(name)\n",
    "name = name.casefold()\n",
    "# This line converts the string `name` to a case-folded version, which is a more aggressive form of lowercasing that is useful for case-insensitive comparisons.\n",
    "print(name)"
   ]
  },
  {
   "cell_type": "code",
   "execution_count": 45,
   "id": "9027812f",
   "metadata": {},
   "outputs": [
    {
     "data": {
      "text/plain": [
       "True"
      ]
     },
     "execution_count": 45,
     "metadata": {},
     "output_type": "execute_result"
    }
   ],
   "source": [
    "name.islower()\n",
    "# This line checks if all characters in the string `name` are lowercase and returns `True` if they are, otherwise it returns `False`."
   ]
  },
  {
   "cell_type": "code",
   "execution_count": 46,
   "id": "af426484",
   "metadata": {},
   "outputs": [
    {
     "data": {
      "text/plain": [
       "False"
      ]
     },
     "execution_count": 46,
     "metadata": {},
     "output_type": "execute_result"
    }
   ],
   "source": [
    "name.isupper()\n",
    "# This line checks if all characters in the string `name` are uppercase and returns `True` if they are, otherwise it returns `False`."
   ]
  },
  {
   "cell_type": "code",
   "execution_count": 48,
   "id": "aa892a8e",
   "metadata": {},
   "outputs": [
    {
     "data": {
      "text/plain": [
       "2"
      ]
     },
     "execution_count": 48,
     "metadata": {},
     "output_type": "execute_result"
    }
   ],
   "source": [
    "name.count(\"a\")\n",
    "# This line counts the number of occurrences of the character 'a' in the string `name` and returns the count."
   ]
  },
  {
   "cell_type": "code",
   "execution_count": 51,
   "id": "bd726b81",
   "metadata": {},
   "outputs": [
    {
     "data": {
      "text/plain": [
       "1"
      ]
     },
     "execution_count": 51,
     "metadata": {},
     "output_type": "execute_result"
    }
   ],
   "source": [
    "name.find(\"a\")\n",
    "# This line finds the first occurrence of the character 'a' in the string `name` and returns its index. If 'a' is not found, it returns -1."
   ]
  },
  {
   "cell_type": "code",
   "execution_count": 52,
   "id": "bab7f83a",
   "metadata": {},
   "outputs": [
    {
     "data": {
      "text/plain": [
       "3"
      ]
     },
     "execution_count": 52,
     "metadata": {},
     "output_type": "execute_result"
    }
   ],
   "source": [
    "name.rfind(\"a\")\n",
    "# This line finds the last occurrence of the character 'a' in the string `name` and returns its index. If 'a' is not found, it returns -1. "
   ]
  },
  {
   "cell_type": "code",
   "execution_count": 64,
   "id": "9bcb1a01",
   "metadata": {},
   "outputs": [
    {
     "name": "stdout",
     "output_type": "stream",
     "text": [
      "Hi\n",
      "there!\n",
      "I'm\n",
      "Sajad,\n",
      "a\n",
      "software\n",
      "engineer\n",
      "with\n",
      "a\n",
      "passion\n",
      "for\n",
      "coding\n",
      "and\n",
      "technology.\n",
      "I\n",
      "enjoy\n",
      "solving\n",
      "complex\n",
      "problems\n",
      "and\n",
      "building\n",
      "innovative\n",
      "solutions.\n",
      "In\n",
      "my\n",
      "free\n",
      "time,\n",
      "I\n",
      "like\n",
      "to\n",
      "explore\n",
      "new\n",
      "programming\n",
      "languages\n",
      "and\n",
      "frameworks,\n",
      "as\n",
      "well\n",
      "as\n",
      "contribute\n",
      "to\n",
      "open-source\n",
      "projects.\n",
      "I'm\n",
      "always\n",
      "eager\n",
      "to\n",
      "learn\n",
      "and\n",
      "grow\n",
      "in\n",
      "my\n",
      "field,\n",
      "and\n",
      "I'm\n",
      "excited\n",
      "about\n",
      "the\n",
      "future\n",
      "of\n",
      "technology.\n",
      "I\n",
      "hope\n",
      "to\n",
      "connect\n",
      "with\n",
      "like-minded\n",
      "individuals\n",
      "and\n",
      "share\n",
      "knowledge\n",
      "and\n",
      "experiences.\n",
      "Let's\n",
      "collaborate\n",
      "and\n",
      "create\n",
      "something\n",
      "amazing\n",
      "together!\n"
     ]
    }
   ],
   "source": [
    "word_list = Message.split()\n",
    "# This line splits the string `Message` into a list of substrings based on whitespace characters (spaces, tabs, newlines) and returns the list.\n",
    "for word in word_list:\n",
    "    print(word)"
   ]
  },
  {
   "cell_type": "code",
   "execution_count": 62,
   "id": "8a1d040b",
   "metadata": {},
   "outputs": [
    {
     "name": "stdout",
     "output_type": "stream",
     "text": [
      "2\n",
      "-1\n"
     ]
    }
   ],
   "source": [
    "print(name.index('j'))\n",
    "#print(name.index('k'))\n",
    "# This line finds the first occurrence of the character 'j' in the string `name` and returns its index. If 'j' is not found, it raises a ValueError.\n",
    "print(name.find('K'))\n",
    "# This line finds the first occurrence of the character 'K' in the string `name` and returns its index. If 'K' is not found, it returns -1."
   ]
  },
  {
   "cell_type": "code",
   "execution_count": null,
   "id": "6eac68e3",
   "metadata": {},
   "outputs": [
    {
     "name": "stdout",
     "output_type": "stream",
     "text": [
      "Sajad\n",
      "Oboodi\n",
      "Sajad Oboodi\n"
     ]
    }
   ],
   "source": [
    "name = \"Sajad\"\n",
    "family = \"Oboodi\"\n",
    "print(name)\n",
    "print(family)\n",
    "print(name + \" \" + family)\n",
    "# This line concatenates the strings `name` and `family` with a space in between and prints the result.\n",
    "# This code is ugly, not good, and unreadable."
   ]
  },
  {
   "cell_type": "code",
   "execution_count": 79,
   "id": "e8fb9fa7",
   "metadata": {},
   "outputs": [
    {
     "name": "stdout",
     "output_type": "stream",
     "text": [
      "Sajad Oboodi is a electrical engineer\n",
      "Sajad Oboodi is a electrical engineer\n",
      "Oboodi' Sajad is a electrical engineer\n",
      "Sajad Oboodi is a electrical engineer\n",
      "Sajad Oboodi is a electrical engineer\n"
     ]
    }
   ],
   "source": [
    "# string interpolation\n",
    "\n",
    "print(\"%s %s is a electrical engineer\" % (name, family))\n",
    "# This line uses the old-style string formatting with the `%` operator to create a new string that includes the values of `name` and `family`.\n",
    "# The `%s` placeholders are replaced with the corresponding values in the tuple `(name, family)`.\n",
    "\n",
    "\n",
    "print(\"{} {} is a electrical engineer\".format(name, family))\n",
    "# This line uses the `format` method to create a new string that includes the values of `name` and `family` within curly braces `{}`.\n",
    "print(\"{1}' {0} is a electrical engineer\".format(name, family))\n",
    "# The numbers inside the curly braces `{}` indicate the index of the corresponding argument in the `format` method.\n",
    "print(\"{first_name} {last_name} is a electrical engineer\".format(first_name=name, last_name=family))\n",
    "# The names inside the curly braces `{}` indicate the keyword arguments passed to the `format` method.\n",
    "\n",
    "print(f\"{name} {family} is a electrical engineer\")\n",
    "# This line uses f-string formatting to create a new string that includes the values of `name` and `family` within curly braces `{}`.\n",
    "# F-strings are a more readable and efficient way to format strings in Python.\n"
   ]
  },
  {
   "cell_type": "markdown",
   "id": "de58731c",
   "metadata": {},
   "source": [
    "# Making Code More Readable with Comments\n",
    "\n",
    "The above code is written in a verbose manner with detailed comments to ensure readability and to serve as a reference for future use. This approach helps in understanding the purpose of each line and makes it easier to maintain the code over time."
   ]
  },
  {
   "cell_type": "code",
   "execution_count": 87,
   "id": "f6ebfafc",
   "metadata": {},
   "outputs": [
    {
     "data": {
      "text/plain": [
       "6"
      ]
     },
     "execution_count": 87,
     "metadata": {},
     "output_type": "execute_result"
    }
   ],
   "source": [
    "text = \"Python\"\n",
    "len(text)\n",
    "# This line checks the length of the string `text` and returns the number of characters in it.\n"
   ]
  },
  {
   "cell_type": "code",
   "execution_count": 94,
   "id": "72d59e5c",
   "metadata": {},
   "outputs": [
    {
     "name": "stdout",
     "output_type": "stream",
     "text": [
      "hi this is a string\n",
      "hi\n",
      "this\n",
      "is\n",
      "a\n",
      "string\n",
      "<class 'list'>\n"
     ]
    }
   ],
   "source": [
    "# This code converts a string to lowercase, splits it into words, and prints each word on a new line.\n",
    "\n",
    "text = 'Hi this is a string'\n",
    "\n",
    "text = text.lower()\n",
    "\n",
    "print(text)\n",
    "\n",
    "list_text = text.split()\n",
    "\n",
    "for word in list_text:\n",
    "    print(word)\n",
    "\n",
    "print(type(list_text))"
   ]
  }
 ],
 "metadata": {
  "kernelspec": {
   "display_name": "ml_course_403_2",
   "language": "python",
   "name": "python3"
  },
  "language_info": {
   "codemirror_mode": {
    "name": "ipython",
    "version": 3
   },
   "file_extension": ".py",
   "mimetype": "text/x-python",
   "name": "python",
   "nbconvert_exporter": "python",
   "pygments_lexer": "ipython3",
   "version": "3.10.16"
  }
 },
 "nbformat": 4,
 "nbformat_minor": 5
}
