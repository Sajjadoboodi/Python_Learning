{
 "cells": [
  {
   "cell_type": "markdown",
   "id": "a5b78a7e",
   "metadata": {},
   "source": [
    "# 🔄 Loops and Iterables in Python\n",
    "\n",
    "In Python, **loops** let us repeat a block of code multiple times. This is useful for tasks like processing data, automating repetitive work, or iterating through elements in a collection.\n",
    "\n",
    "---\n",
    "\n",
    "## 🔹 What is a Loop?\n",
    "\n",
    "A **loop** is a control structure that repeatedly executes a block of code as long as a condition is met.\n",
    "\n",
    "### Common Loops in Python:\n",
    "\n",
    "✅ `for` loops  \n",
    "✅ `while` loops\n",
    "\n",
    "---\n",
    "\n",
    "## 🔹 The `for` Loop\n",
    "\n",
    "The `for` loop **iterates** over items in a **sequence** (like a list, tuple, or string).  \n",
    "\n",
    "```python\n",
    "for item in iterable:\n",
    "    # do something with item\n"
   ]
  },
  {
   "cell_type": "code",
   "execution_count": 2,
   "id": "3d3a75f6",
   "metadata": {},
   "outputs": [],
   "source": [
    "names = [\"John\", \"Smith\", \"Alice\", \"Kate\", \"Bob\"]"
   ]
  },
  {
   "cell_type": "code",
   "execution_count": 4,
   "id": "6ef64c4b",
   "metadata": {},
   "outputs": [
    {
     "name": "stdout",
     "output_type": "stream",
     "text": [
      "1. John\n",
      "2. Smith\n",
      "3. Alice\n",
      "4. Kate\n",
      "5. Bob\n",
      "end of loop\n"
     ]
    }
   ],
   "source": [
    "# Loop through the list and print each name\n",
    "# The list is iterable variable\n",
    "number = 1\n",
    "for item in names:\n",
    "    print(f\"{number}. {item}\")\n",
    "    number += 1\n",
    "\n",
    "print(\"end of loop\")"
   ]
  },
  {
   "cell_type": "markdown",
   "id": "cd9f383f",
   "metadata": {},
   "source": [
    "## 🔹 Using `_` in a `for` Loop in Python\n",
    "\n",
    "In Python, the underscore (`_`) is often used as a **throwaway variable**—a variable you **don’t actually need**.  \n",
    "\n",
    "---\n",
    "\n",
    "## 🔹 Why Use `_`?\n",
    "\n",
    "Sometimes you want to run a loop a certain number of times but **don’t care** about the loop variable itself.\n",
    "\n",
    "For example:\n",
    "```python\n",
    "for _ in range(5):\n",
    "    print(\"Hello!\")\n"
   ]
  },
  {
   "cell_type": "code",
   "execution_count": 3,
   "id": "b42a7d47",
   "metadata": {},
   "outputs": [
    {
     "name": "stdout",
     "output_type": "stream",
     "text": [
      "Hello!\n",
      "Hello!\n",
      "Hello!\n",
      "Hello!\n",
      "Hello!\n",
      "Have a great day!\n",
      "Have a great day!\n",
      "Have a great day!\n",
      "Have a great day!\n",
      "Have a great day!\n"
     ]
    }
   ],
   "source": [
    "for _ in range(5):\n",
    "    print(\"Hello!\")\n",
    "\n",
    "for _ in names:\n",
    "    print(\"Have a great day!\")\n",
    "\n"
   ]
  },
  {
   "cell_type": "code",
   "execution_count": 1,
   "id": "62100ff0",
   "metadata": {},
   "outputs": [],
   "source": [
    "test = \"Hello have a good day :))\""
   ]
  },
  {
   "cell_type": "code",
   "execution_count": 2,
   "id": "39b447b1",
   "metadata": {},
   "outputs": [
    {
     "name": "stdout",
     "output_type": "stream",
     "text": [
      "H\n",
      "e\n",
      "l\n",
      "l\n",
      "o\n",
      " \n",
      "h\n",
      "a\n",
      "v\n",
      "e\n",
      " \n",
      "a\n",
      " \n",
      "g\n",
      "o\n",
      "o\n",
      "d\n",
      " \n",
      "d\n",
      "a\n",
      "y\n",
      " \n",
      ":\n",
      ")\n",
      ")\n"
     ]
    }
   ],
   "source": [
    "for charc in test:\n",
    "    print(charc)"
   ]
  },
  {
   "cell_type": "code",
   "execution_count": 2,
   "id": "92c3ba4b",
   "metadata": {},
   "outputs": [],
   "source": [
    "students_dic = {\n",
    "\n",
    "    \"John\" : {\n",
    "        \"GPA\": 3.5,\n",
    "        \"number\": 12\n",
    "    },\n",
    "    \"Jane\" : {\n",
    "        \"GPA\": 3.8,\n",
    "        \"number\": 15\n",
    "    },\n",
    "    \"Kevin\" : {\n",
    "        \"GPA\": 4.0,\n",
    "        \"number\": 20\n",
    "    }\n",
    "}"
   ]
  },
  {
   "cell_type": "code",
   "execution_count": 4,
   "id": "919b1328",
   "metadata": {},
   "outputs": [
    {
     "name": "stdout",
     "output_type": "stream",
     "text": [
      "Student: John\n",
      "  GPA: 3.5\n",
      "  Number: 12\n",
      "--------------------\n",
      "Student: Jane\n",
      "  GPA: 3.8\n",
      "  Number: 15\n",
      "--------------------\n",
      "Student: Kevin\n",
      "  GPA: 4.0\n",
      "  Number: 20\n",
      "--------------------\n"
     ]
    }
   ],
   "source": [
    "for student, info in students_dic.items():\n",
    "    print(f\"Student: {student}\")\n",
    "    print(f\"  GPA: {info['GPA']}\")\n",
    "    print(f\"  Number: {info['number']}\")\n",
    "    print(\"-\" * 20)"
   ]
  },
  {
   "cell_type": "code",
   "execution_count": 10,
   "id": "0acd0766",
   "metadata": {},
   "outputs": [],
   "source": [
    "students_dic = {\n",
    "    \n",
    "    \"Samuel\" : {\n",
    "        \"number\" : 14,\n",
    "        \"GPA\" : 3.6,\n",
    "        \"courses\" : {\n",
    "            \"Mathematics\" : \"A\",\n",
    "            \"Physics\" : \"B\",\n",
    "            \"Chemistry\" : \"A\"\n",
    "        }\n",
    "\n",
    "    },\n",
    "\n",
    "    \"John\" : {\n",
    "        \"GPA\" : 3.5,\n",
    "        \"number\" : 12,\n",
    "        \"courses\" : {\n",
    "            \"Biology\" : \"B\",\n",
    "            \"English\" : \"A\",\n",
    "            \"History\" : \"C\"\n",
    "        }\n",
    "    },\n",
    "\n",
    "    \"Jane\" : {\n",
    "        \"GPA\" : 3.8,\n",
    "        \"number\" : 15,\n",
    "        \"courses\" : {\n",
    "            \"Literature\" : \"A\",\n",
    "            \"Art\" : \"B\",\n",
    "            \"Music\" : \"A\"\n",
    "        }\n",
    "    },\n",
    "\n",
    "    \"Kevin\" : {\n",
    "        \"GPA\" : 4.0,\n",
    "        \"number\" : 20,\n",
    "        \"courses\" : {\n",
    "            \"Computer Science\" : \"A\",\n",
    "            \"Statistics\" : \"A\",\n",
    "            \"Psychology\" : \"A\"\n",
    "        }\n",
    "    }\n",
    "}"
   ]
  },
  {
   "cell_type": "code",
   "execution_count": 36,
   "id": "66c89dae",
   "metadata": {},
   "outputs": [
    {
     "name": "stdout",
     "output_type": "stream",
     "text": [
      "Samuel\n",
      "John\n",
      "Jane\n",
      "Kevin\n"
     ]
    }
   ],
   "source": [
    "for student in students_dic.keys():\n",
    "    print(student)"
   ]
  },
  {
   "cell_type": "code",
   "execution_count": 46,
   "id": "f2c34f15",
   "metadata": {},
   "outputs": [
    {
     "name": "stdout",
     "output_type": "stream",
     "text": [
      "{'number': 14, 'GPA': 3.6, 'courses': {'Mathematics': 'A', 'Physics': 'B', 'Chemistry': 'A'}}\n",
      "number\n",
      "GPA\n",
      "courses\n",
      "14\n",
      "3.6\n",
      "{'Mathematics': 'A', 'Physics': 'B', 'Chemistry': 'A'}\n",
      "{'GPA': 3.5, 'number': 12, 'courses': {'Biology': 'B', 'English': 'A', 'History': 'C'}}\n",
      "GPA\n",
      "number\n",
      "courses\n",
      "3.5\n",
      "12\n",
      "{'Biology': 'B', 'English': 'A', 'History': 'C'}\n",
      "{'GPA': 3.8, 'number': 15, 'courses': {'Literature': 'A', 'Art': 'B', 'Music': 'A'}}\n",
      "GPA\n",
      "number\n",
      "courses\n",
      "3.8\n",
      "15\n",
      "{'Literature': 'A', 'Art': 'B', 'Music': 'A'}\n",
      "{'GPA': 4.0, 'number': 20, 'courses': {'Computer Science': 'A', 'Statistics': 'A', 'Psychology': 'A'}}\n",
      "GPA\n",
      "number\n",
      "courses\n",
      "4.0\n",
      "20\n",
      "{'Computer Science': 'A', 'Statistics': 'A', 'Psychology': 'A'}\n"
     ]
    }
   ],
   "source": [
    "for student in students_dic.values():\n",
    "    print(student)\n",
    "    \n",
    "    for data in student.keys():\n",
    "        print(data)\n",
    "\n",
    "    for val in student.values():\n",
    "        print(val)\n"
   ]
  },
  {
   "cell_type": "code",
   "execution_count": 47,
   "id": "961933b5",
   "metadata": {},
   "outputs": [
    {
     "name": "stdout",
     "output_type": "stream",
     "text": [
      "Samuel\n",
      "GPA is : 3.6\n",
      "Number is : 14\n",
      "Excellent in Mathematics!\n",
      "Good job in Physics.\n",
      "Excellent in Chemistry!\n",
      "Best course: Mathematics, Chemistry\n",
      "----------------------------------------------------------------------------------------------------\n",
      "John\n",
      "GPA is : 3.5\n",
      "Number is : 12\n",
      "Good job in Biology.\n",
      "Excellent in English!\n",
      "You can do better in History.\n",
      "Best course: English\n",
      "----------------------------------------------------------------------------------------------------\n",
      "Jane\n",
      "GPA is : 3.8\n",
      "Number is : 15\n",
      "Excellent in Literature!\n",
      "Good job in Art.\n",
      "Excellent in Music!\n",
      "Best course: Literature, Music\n",
      "----------------------------------------------------------------------------------------------------\n",
      "Kevin\n",
      "GPA is : 4.0\n",
      "Number is : 20\n",
      "Excellent in Computer Science!\n",
      "Excellent in Statistics!\n",
      "Excellent in Psychology!\n",
      "Best course: Computer Science, Statistics, Psychology\n",
      "----------------------------------------------------------------------------------------------------\n"
     ]
    }
   ],
   "source": [
    "for student, info in students_dic.items():\n",
    "    print(student)\n",
    "    \n",
    "    print(f\"GPA is : {info['GPA']}\")\n",
    "    \n",
    "    print(f\"Number is : {info['number']}\")\n",
    "    \n",
    "    courses = info['courses'].items()\n",
    "    \n",
    "    best_course = []\n",
    "    \n",
    "    for course, grade in courses:\n",
    "        \n",
    "        if grade == \"A\":\n",
    "            print(f\"Excellent in {course}!\")\n",
    "            best_course.append(course)\n",
    "            \n",
    "        elif grade == \"B\":\n",
    "            print(f\"Good job in {course}.\")\n",
    "            \n",
    "        elif grade == \"C\":\n",
    "            print(f\"You can do better in {course}.\")\n",
    "            \n",
    "        else:\n",
    "            print(f\"Keep trying in {course}.\")\n",
    "            \n",
    "            \n",
    "    if best_course:\n",
    "        print(f\"Best course: {', '.join(best_course)}\")\n",
    "        \n",
    "        \n",
    "    print(\"-\" * 100)\n"
   ]
  }
 ],
 "metadata": {
  "kernelspec": {
   "display_name": "ml_course_403_2",
   "language": "python",
   "name": "python3"
  },
  "language_info": {
   "codemirror_mode": {
    "name": "ipython",
    "version": 3
   },
   "file_extension": ".py",
   "mimetype": "text/x-python",
   "name": "python",
   "nbconvert_exporter": "python",
   "pygments_lexer": "ipython3",
   "version": "3.10.16"
  }
 },
 "nbformat": 4,
 "nbformat_minor": 5
}
