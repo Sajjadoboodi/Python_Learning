{
 "cells": [
  {
   "cell_type": "markdown",
   "id": "cc4ff741",
   "metadata": {},
   "source": [
    "# What is a Dictionary in Python?\n",
    "\n",
    "A dictionary in Python is a collection of key-value pairs. Each key is unique, and it is used to store and retrieve values efficiently. Dictionaries are mutable, meaning you can change their content after creation.\n",
    "\n",
    "## Key Features of a Dictionary:\n",
    "- **Unordered**: The items in a dictionary are not stored in any particular order.\n",
    "- **Key-Value Pairs**: Each item in a dictionary is a pair of a key and its corresponding value.\n",
    "- **Keys are Unique**: No two keys can have the same value.\n",
    "- **Mutable**: You can add, remove, or modify items in a dictionary.\n",
    "\n",
    "## Example:"
   ]
  },
  {
   "cell_type": "code",
   "execution_count": 2,
   "id": "ba26a292",
   "metadata": {},
   "outputs": [
    {
     "name": "stdout",
     "output_type": "stream",
     "text": [
      "{'brand': 'Dodge', 'model': 'Hellcat', 'year': 2023, 'color': 'Red', 'horsepower': 707, 'price': 70000}\n",
      "Dodge\n",
      "Hellcat\n",
      "2023\n",
      "Red\n",
      "707\n",
      "70000\n"
     ]
    }
   ],
   "source": [
    "car_dict = {\n",
    "    \"brand\": \"Dodge\",\n",
    "    \"model\": \"Hellcat\",\n",
    "    \"year\": 2023,\n",
    "    \"color\": \"Red\",\n",
    "    \"horsepower\": 707,\n",
    "    \"price\": 70000\n",
    "}\n",
    "# Accessing dictionary values\n",
    "print(car_dict)\n",
    "print(car_dict[\"brand\"])\n",
    "\n",
    "print(car_dict[\"model\"])\n",
    "\n",
    "print(car_dict[\"year\"])\n",
    "\n",
    "print(car_dict[\"color\"])\n",
    "\n",
    "print(car_dict[\"horsepower\"])\n",
    "\n",
    "print(car_dict[\"price\"])\n"
   ]
  },
  {
   "cell_type": "markdown",
   "id": "b26ae9b4",
   "metadata": {},
   "source": [
    "## Adding a New Key-Value Pair to a Dictionary\n",
    "\n",
    "In Python, dictionaries are mutable, which means you can add new key-value pairs to an existing dictionary. To add a new key-value pair, you simply assign a value to a new key using the assignment operator (`=`).\n",
    "\n",
    "### Syntax:"
   ]
  },
  {
   "cell_type": "code",
   "execution_count": 3,
   "id": "062d8f97",
   "metadata": {},
   "outputs": [
    {
     "name": "stdout",
     "output_type": "stream",
     "text": [
      "{'brand': 'Dodge', 'model': 'Hellcat', 'year': 2023, 'color': 'Red', 'horsepower': 707, 'price': 70000, 'owner': 'Maximiliano'}\n"
     ]
    }
   ],
   "source": [
    "# Adding a new key-value pair\n",
    "car_dict[\"owner\"] = \"Maximiliano\"\n",
    "\n",
    "print(car_dict)\n",
    "# Updating an existing key-value pair"
   ]
  },
  {
   "cell_type": "markdown",
   "id": "f50b0f9a",
   "metadata": {},
   "source": [
    "## Updating Dictionary Keys with New Values\n",
    "\n",
    "Below is the updated dictionary with new values for each key. The `car_dict` dictionary now includes an additional key-value pair for the owner, and its existing keys retain their respective values."
   ]
  },
  {
   "cell_type": "code",
   "execution_count": 4,
   "id": "dd3b4b29",
   "metadata": {},
   "outputs": [
    {
     "name": "stdout",
     "output_type": "stream",
     "text": [
      "{'brand': 'Dodge', 'model': 'Hellcat', 'year': 2023, 'color': 'Red', 'horsepower': 1030, 'price': 70000, 'owner': 'Maximiliano'}\n"
     ]
    }
   ],
   "source": [
    "car_dict[\"horsepower\"] = 1030\n",
    "print(car_dict)\n",
    "# In this example, we are updating the value of the \"horsepower\" key to 1030."
   ]
  },
  {
   "cell_type": "markdown",
   "id": "e1dbcdf8",
   "metadata": {},
   "source": [
    "## What is a Nested Dictionary in Python?\n",
    "\n",
    "A nested dictionary in Python is a dictionary that contains another dictionary as one or more of its values. This allows you to store hierarchical or structured data in a single dictionary. Each key in the outer dictionary can map to a value that is itself a dictionary.\n",
    "\n",
    "### Key Features of Nested Dictionaries:\n",
    "- **Hierarchical Structure**: Nested dictionaries allow you to represent data in a tree-like structure.\n",
    "- **Accessing Values**: You can access values in a nested dictionary by chaining keys.\n",
    "- **Flexible**: You can add, update, or remove keys and values at any level of the nested structure.\n",
    "\n",
    "### Example:"
   ]
  },
  {
   "cell_type": "code",
   "execution_count": 5,
   "id": "8cd32c40",
   "metadata": {},
   "outputs": [
    {
     "name": "stdout",
     "output_type": "stream",
     "text": [
      "{'Alice': {'Math': 85, 'Science': 90, 'English': 88, 'Chemistry': 92, 'History': 70}, 'Bob': {'Math': 78, 'Science': 85, 'English': 80, 'Chemistry': 88, 'History': 75}, 'Charlie': {'Math': 92, 'Science': 95, 'English': 90, 'Chemistry': 94, 'History': 88}, 'David': {'Math': 70, 'Science': 75, 'English': 80, 'Chemistry': 78, 'History': 72}}\n",
      "{'Math': 85, 'Science': 90, 'English': 88, 'Chemistry': 92, 'History': 70}\n",
      "85\n",
      "85\n",
      "90\n",
      "78\n"
     ]
    }
   ],
   "source": [
    "# Declaring a dictionary with nested dictionaries\n",
    "# In this example, we are creating a dictionary called \"students_scores\" that contains the scores of different students in various subjects.\n",
    "# Each student is represented as a key in the dictionary, and their scores are stored in a nested dictionary.\n",
    "students_scores = {\n",
    "    \n",
    "    \"Alice\": {\n",
    "        \"Math\": 85,\n",
    "        \"Science\": 90,\n",
    "        \"English\": 88,\n",
    "        \"Chemistry\": 92,\n",
    "        \"History\": 70\n",
    "    },\n",
    "    \n",
    "    \"Bob\": {\n",
    "        \"Math\": 78,\n",
    "        \"Science\": 85,\n",
    "        \"English\": 80,\n",
    "        \"Chemistry\": 88,\n",
    "        \"History\": 75\n",
    "    },\n",
    "    \n",
    "    \"Charlie\": {\n",
    "        \"Math\": 92,\n",
    "        \"Science\": 95,\n",
    "        \"English\": 90,\n",
    "        \"Chemistry\": 94,\n",
    "        \"History\": 88\n",
    "    },\n",
    "    \n",
    "    \"David\": {\n",
    "        \"Math\": 70,\n",
    "        \"Science\": 75,\n",
    "        \"English\": 80,\n",
    "        \"Chemistry\": 78,\n",
    "        \"History\": 72\n",
    "    }\n",
    "}\n",
    "\n",
    "print(students_scores)\n",
    "\n",
    "# Print \"Alice's scores\"\n",
    "# we are accessing the scores of a specific student (Alice) by using her name as the key in the dictionary.\n",
    "# The output will be a nested dictionary containing Alice's scores in different subjects.\n",
    "\n",
    "print(students_scores[\"Alice\"])\n",
    "\n",
    "# Accessing nested dictionary values\n",
    "# In this example, we are accessing the scores of different students in specific subjects.\n",
    "# We can do this by using the student's name as the key and then the subject as the key in the nested dictionary.   \n",
    "# To access Charlie's score in English, we use students_scores[\"Charlie\"][\"English\"].   \n",
    "\n",
    "print(students_scores[\"Alice\"][\"Math\"])\n",
    "\n",
    "print(students_scores[\"Bob\"][\"Science\"])\n",
    "\n",
    "print(students_scores[\"Charlie\"][\"English\"])\n",
    "\n",
    "print(students_scores[\"David\"][\"Chemistry\"])\n"
   ]
  },
  {
   "cell_type": "markdown",
   "id": "e48cd96c",
   "metadata": {},
   "source": [
    "## The `keys()` Method in Python Dictionaries\n",
    "\n",
    "The `keys()` method is used to retrieve all the keys from a dictionary. It returns a view object that displays a list of all the keys in the dictionary.\n",
    "\n",
    "### Syntax:"
   ]
  },
  {
   "cell_type": "code",
   "execution_count": 6,
   "id": "2886fd0a",
   "metadata": {},
   "outputs": [
    {
     "data": {
      "text/plain": [
       "dict_keys(['Alice', 'Bob', 'Charlie', 'David'])"
      ]
     },
     "execution_count": 6,
     "metadata": {},
     "output_type": "execute_result"
    }
   ],
   "source": [
    "students_scores.keys()\n",
    "# "
   ]
  },
  {
   "cell_type": "code",
   "execution_count": 7,
   "id": "a58f112a",
   "metadata": {},
   "outputs": [
    {
     "name": "stdout",
     "output_type": "stream",
     "text": [
      "The Bob keys is :\n",
      "\n",
      "Math\n",
      "Science\n",
      "English\n",
      "Chemistry\n",
      "History\n"
     ]
    }
   ],
   "source": [
    "# Print the keys for Bob's scores\n",
    "\n",
    "print(\"The Bob keys is :\\n\")\n",
    "\n",
    "for key in students_scores[\"Bob\"].keys():\n",
    "    print(key)"
   ]
  },
  {
   "cell_type": "markdown",
   "id": "5afe0e47",
   "metadata": {},
   "source": [
    "## The `values()` Method in Python Dictionaries\n",
    "\n",
    "The `values()` method is used to retrieve all the values from a dictionary. It returns a view object that displays a list of all the values in the dictionary. This method is useful when you want to access only the values without the keys.\n",
    "\n",
    "### Syntax:"
   ]
  },
  {
   "cell_type": "code",
   "execution_count": 10,
   "id": "51bed89b",
   "metadata": {},
   "outputs": [
    {
     "data": {
      "text/plain": [
       "dict_values(['Dodge', 'Hellcat', 2023, 'Red', 1030, 70000, 'Maximiliano'])"
      ]
     },
     "execution_count": 10,
     "metadata": {},
     "output_type": "execute_result"
    }
   ],
   "source": [
    "car_dict.values()\n",
    "# This will return a view object that contains all the values in the dictionary.\n",
    "# In this case, it will return a view object containing the values of the car's attributes (brand, model, year, color, horsepower, price, and owner)."
   ]
  },
  {
   "cell_type": "markdown",
   "id": "41acb109",
   "metadata": {},
   "source": [
    "## The `items()` Method in Python Dictionaries\n",
    "\n",
    "The `items()` method is used to retrieve all the key-value pairs from a dictionary as tuples. It returns a view object that contains a list of tuples, where each tuple represents a key-value pair in the dictionary.\n",
    "\n",
    "### Key Features:\n",
    "- **Key-Value Pairs**: Each tuple contains a key and its corresponding value.\n",
    "- **Dynamic View**: The view object reflects any changes made to the dictionary.\n",
    "- **Iterable**: The returned view object can be used in loops to iterate over the key-value pairs.\n",
    "\n",
    "### Syntax:"
   ]
  },
  {
   "cell_type": "code",
   "execution_count": 11,
   "id": "4b2824a8",
   "metadata": {},
   "outputs": [
    {
     "data": {
      "text/plain": [
       "dict_items([('brand', 'Dodge'), ('model', 'Hellcat'), ('year', 2023), ('color', 'Red'), ('horsepower', 1030), ('price', 70000), ('owner', 'Maximiliano')])"
      ]
     },
     "execution_count": 11,
     "metadata": {},
     "output_type": "execute_result"
    }
   ],
   "source": [
    "car_dict.items()\n",
    "# This will return a view object that contains all the key-value pairs in the dictionary."
   ]
  },
  {
   "cell_type": "markdown",
   "id": "a71f9f6c",
   "metadata": {},
   "source": [
    "## The `get()` Method in Python Dictionaries\n",
    "\n",
    "The `get()` method is used to retrieve the value associated with a specified key in a dictionary. It is a safer way to access dictionary values compared to directly using square brackets (`[]`), as it does not raise a `KeyError` if the key is not found. Instead, it returns a default value (which can be specified) or `None` if no default value is provided.\n",
    "\n",
    "### Syntax:"
   ]
  },
  {
   "cell_type": "code",
   "execution_count": 13,
   "id": "ce4c64e8",
   "metadata": {},
   "outputs": [
    {
     "data": {
      "text/plain": [
       "'Hellcat'"
      ]
     },
     "execution_count": 13,
     "metadata": {},
     "output_type": "execute_result"
    }
   ],
   "source": [
    "car_dict.get(\"model\")\n",
    "# The get() method is used to access the value associated with a specific key in a dictionary."
   ]
  },
  {
   "cell_type": "code",
   "execution_count": null,
   "id": "1a8a8db7",
   "metadata": {},
   "outputs": [],
   "source": [
    "car_dict.get(\"body_style\")\n",
    "# If the key does not exist in the dictionary, the get() method will return None by default.\n"
   ]
  },
  {
   "cell_type": "code",
   "execution_count": 17,
   "id": "52bd7086",
   "metadata": {},
   "outputs": [
    {
     "data": {
      "text/plain": [
       "'Not Found'"
      ]
     },
     "execution_count": 17,
     "metadata": {},
     "output_type": "execute_result"
    }
   ],
   "source": [
    "car_dict.get(\"body_style\", \"Not Found\")\n",
    "# In this case, if the key \"body_style\" does not exist in the dictionary, it will return the string \"Not Found\" instead of None."
   ]
  },
  {
   "cell_type": "code",
   "execution_count": 19,
   "id": "1eb4a004",
   "metadata": {},
   "outputs": [
    {
     "data": {
      "text/plain": [
       "-1"
      ]
     },
     "execution_count": 19,
     "metadata": {},
     "output_type": "execute_result"
    }
   ],
   "source": [
    "car_dict.get(\"body_style\", -1)\n",
    "# the default value can be any data type, including integers, strings, lists, or even other dictionaries.\n",
    "# In this case, if the key \"body_style\" does not exist in the dictionary, it will return -1 instead of None.\n",
    "# The get() method is useful when you want to avoid raising a KeyError if the key is not found in the dictionary."
   ]
  },
  {
   "cell_type": "code",
   "execution_count": 20,
   "id": "bcb76b08",
   "metadata": {},
   "outputs": [
    {
     "name": "stdout",
     "output_type": "stream",
     "text": [
      "Ali\n"
     ]
    }
   ],
   "source": [
    "person = {\"name\": \"Ali\", \"age\": 25}\n",
    "print(person[\"name\"])"
   ]
  }
 ],
 "metadata": {
  "kernelspec": {
   "display_name": "ml_course_403_2",
   "language": "python",
   "name": "python3"
  },
  "language_info": {
   "codemirror_mode": {
    "name": "ipython",
    "version": 3
   },
   "file_extension": ".py",
   "mimetype": "text/x-python",
   "name": "python",
   "nbconvert_exporter": "python",
   "pygments_lexer": "ipython3",
   "version": "3.10.16"
  }
 },
 "nbformat": 4,
 "nbformat_minor": 5
}
