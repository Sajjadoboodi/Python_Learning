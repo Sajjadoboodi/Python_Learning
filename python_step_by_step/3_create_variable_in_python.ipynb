{
 "cells": [
  {
   "cell_type": "markdown",
   "id": "82039cbb",
   "metadata": {},
   "source": [
    "### What is a Variable in Python?\n",
    "\n",
    "A variable in Python is a symbolic name that is used to store data or values. It acts as a container for data that can be referenced and manipulated in a program. Variables are created when you assign a value to them using the `=` operator.\n",
    "\n",
    "#### Key Features of Variables in Python:\n",
    "- **Dynamic Typing**: You don't need to declare the type of a variable explicitly. Python infers the type based on the value assigned.\n",
    "- **Reassignment**: Variables can be reassigned to values of different types.\n",
    "- **Case-Sensitive**: Variable names are case-sensitive (`myVar` and `myvar` are different).\n",
    "- **Naming Rules**:\n",
    "    - Must start with a letter or an underscore (`_`).\n",
    "    - Cannot start with a number.\n",
    "    - Can only contain alphanumeric characters and underscores.\n",
    "    - Cannot use reserved keywords as variable names.\n",
    "\n",
    "#### Example:\n",
    "```python\n",
    "# Assigning values to variables\n",
    "x = 10          # Integer\n",
    "y = 3.14        # Float\n",
    "name = \"Alice\"  # String\n",
    "\n",
    "# Printing variables\n",
    "print(x)        # Output: 10\n",
    "print(y)        # Output: 3.14\n",
    "print(name)     # Output: Alice\n",
    "```"
   ]
  },
  {
   "cell_type": "markdown",
   "id": "c3a5f73e",
   "metadata": {},
   "source": [
    "### Why Do Programmers Use Variables and What Are the Benefits of Using Them?\n",
    "\n",
    "Programmers use variables to store, manipulate, and retrieve data efficiently during the execution of a program. Variables act as placeholders for values, making it easier to write flexible and reusable code.\n",
    "\n",
    "#### Benefits of Using Variables:\n",
    "1. **Code Readability**: Variables provide meaningful names to data, making the code easier to understand.\n",
    "2. **Reusability**: Variables allow the same data to be used multiple times without redundancy.\n",
    "3. **Flexibility**: Variables can store different types of data and can be reassigned as needed.\n",
    "4. **Ease of Maintenance**: Changes to data only need to be made in one place, reducing the risk of errors.\n",
    "5. **Dynamic Behavior**: Variables enable dynamic calculations and operations based on user input or program logic.\n",
    "6. **Memory Management**: Variables help in managing memory efficiently by referencing data instead of duplicating it."
   ]
  },
  {
   "cell_type": "code",
   "execution_count": 20,
   "id": "0b44816b",
   "metadata": {},
   "outputs": [
    {
     "name": "stdout",
     "output_type": "stream",
     "text": [
      "Integer: 10\n",
      "Float: 3.14\n",
      "String: Hello\n",
      "Boolean: True\n",
      "List: [1, 2, 3]\n",
      "Tuple: (4, 5, 6)\n",
      "Dictionary: {'key': 'value'}\n",
      "Snake Case: This is snake case\n",
      "Camel Case: This is camel case\n",
      "Pascal Case: This is pascal case\n",
      "Upper Case: This is upper case\n",
      "Private Variable: This is a private variable\n"
     ]
    }
   ],
   "source": [
    "# Defining variables of different types\n",
    "\n",
    "integer_var = 10          # Integer\n",
    "\n",
    "float_var = 3.14          # Float\n",
    "\n",
    "string_var = \"Hello\"      # String\n",
    "\n",
    "boolean_var = True        # Boolean\n",
    "\n",
    "list_var = [1, 2, 3]      # List\n",
    "\n",
    "tuple_var = (4, 5, 6)     # Tuple\n",
    "\n",
    "dict_var = {\"key\": \"value\"}  # Dictionary\n",
    "\n",
    "# Printing the variables\n",
    "print(\"Integer:\", integer_var)\n",
    "\n",
    "print(\"Float:\", float_var)\n",
    "\n",
    "print(\"String:\", string_var)\n",
    "\n",
    "print(\"Boolean:\", boolean_var)\n",
    "\n",
    "print(\"List:\", list_var)\n",
    "\n",
    "print(\"Tuple:\", tuple_var)\n",
    "\n",
    "print(\"Dictionary:\", dict_var)\n",
    "\n",
    "# Types of variable naming formats\n",
    "\n",
    "# 1. Snake Case (commonly used in Python)\n",
    "snake_case_variable = \"This is snake case\"\n",
    "print(\"Snake Case:\", snake_case_variable)\n",
    "\n",
    "# 2. Camel Case (commonly used in JavaScript)\n",
    "camelCaseVariable = \"This is camel case\"\n",
    "print(\"Camel Case:\", camelCaseVariable)\n",
    "\n",
    "# 3. Pascal Case (commonly used in class names)\n",
    "PascalCaseVariable = \"This is pascal case\"\n",
    "print(\"Pascal Case:\", PascalCaseVariable)\n",
    "\n",
    "# 4. Upper Case (commonly used for constants)\n",
    "UPPER_CASE_VARIABLE = \"This is upper case\"\n",
    "print(\"Upper Case:\", UPPER_CASE_VARIABLE)\n",
    "\n",
    "# 5. Underscore Prefix (commonly used for private variables)\n",
    "_private_variable = \"This is a private variable\"\n",
    "print(\"Private Variable:\", _private_variable)"
   ]
  },
  {
   "cell_type": "code",
   "execution_count": 21,
   "id": "734870dd",
   "metadata": {},
   "outputs": [
    {
     "name": "stdout",
     "output_type": "stream",
     "text": [
      "variable Lowercase 'v': This is variable 1\n",
      "Variable Uppercase 'V': This is Variable 2\n",
      "Are 'variable1' and 'Variable2' the same? False\n"
     ]
    }
   ],
   "source": [
    "# Creating variables with similar names\n",
    "\n",
    "variable = \"This is variable 1\"\n",
    "\n",
    "Variable = \"This is Variable 2\"\n",
    "\n",
    "# Printing the variables to show case sensitivity\n",
    "\n",
    "print(\"variable Lowercase 'v':\", variable)  # Lowercase 'v'\n",
    "\n",
    "print(\"Variable Uppercase 'V':\", Variable)  # Uppercase 'V'\n",
    "\n",
    "# Checking if the variables are treated as different\n",
    "print(\"Are 'variable1' and 'Variable2' the same?\", variable == Variable)"
   ]
  },
  {
   "cell_type": "code",
   "execution_count": 22,
   "id": "595a3c88",
   "metadata": {},
   "outputs": [
    {
     "name": "stdout",
     "output_type": "stream",
     "text": [
      "mid2dle: Number in the middle\n",
      "last3: Number at the end\n",
      "Variable names cannot start with a number, but they can contain numbers in the middle or at the end.\n"
     ]
    }
   ],
   "source": [
    "# Valid variable names with numbers\n",
    "\n",
    "mid2dle = \"Number in the middle\"\n",
    "\n",
    "last3 = \"Number at the end\"\n",
    "\n",
    "# Printing the variables\n",
    "\n",
    "print(\"mid2dle:\", mid2dle)\n",
    "\n",
    "print(\"last3:\", last3)\n",
    "\n",
    "# Invalid variable name (uncommenting the next line will cause a SyntaxError)\n",
    "# 1first = \"Number at the beginning\"\n",
    "\n",
    "# Explanation\n",
    "print(\"Variable names cannot start with a number, but they can contain numbers in the middle or at the end.\")"
   ]
  },
  {
   "cell_type": "code",
   "execution_count": 23,
   "id": "0473d594",
   "metadata": {
    "vscode": {
     "languageId": "ruby"
    }
   },
   "outputs": [],
   "source": [
    "\n",
    "valid_name = True  \n",
    "\n",
    "_underscore = True  \n",
    "\n",
    "#/invalid = False  \n",
    "\n",
    "#invalid-name = False  \n",
    "\n",
    "validName123 = True  \n",
    "\n",
    "#class = True  # Invalid: reserved keyword\n",
    "\n",
    "# 123name = False  # Invalid: starts with a number\n",
    "\n",
    "validName = True  \n",
    "\n",
    "# name@ = False  # Invalid: contains a special character\n",
    "\n",
    "# name with space = False  # Invalid: contains a space\n",
    "\n",
    "_123valid = True  # Placeholder for the actual validation logic\n",
    "\n",
    "# name! = False  # Invalid: contains a special character\n",
    "\n"
   ]
  },
  {
   "cell_type": "code",
   "execution_count": 24,
   "id": "a14428ac",
   "metadata": {
    "vscode": {
     "languageId": "ruby"
    }
   },
   "outputs": [
    {
     "name": "stdout",
     "output_type": "stream",
     "text": [
      "15\n"
     ]
    }
   ],
   "source": [
    "x = 10\n",
    "y = 5\n",
    "z = x + y\n",
    "print(z)"
   ]
  },
  {
   "cell_type": "code",
   "execution_count": 26,
   "id": "d10b1c71",
   "metadata": {
    "vscode": {
     "languageId": "ruby"
    }
   },
   "outputs": [
    {
     "name": "stdout",
     "output_type": "stream",
     "text": [
      "Sam 18\n"
     ]
    }
   ],
   "source": [
    "name = \"Sam\"\n",
    "age = 18\n",
    "print(name, age)"
   ]
  }
 ],
 "metadata": {
  "kernelspec": {
   "display_name": "ml_course_403_2",
   "language": "python",
   "name": "python3"
  },
  "language_info": {
   "codemirror_mode": {
    "name": "ipython",
    "version": 3
   },
   "file_extension": ".py",
   "mimetype": "text/x-python",
   "name": "python",
   "nbconvert_exporter": "python",
   "pygments_lexer": "ipython3",
   "version": "3.10.16"
  }
 },
 "nbformat": 4,
 "nbformat_minor": 5
}
