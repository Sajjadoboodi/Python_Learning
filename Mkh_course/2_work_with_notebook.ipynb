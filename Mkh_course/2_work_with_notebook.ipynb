{
 "cells": [
  {
   "cell_type": "markdown",
   "id": "aa2f0700",
   "metadata": {},
   "source": [
    "# Jupyter Notebook\n",
    "\n",
    "Jupyter Notebook is an open-source application that allows you to create and share documents that contain code, equations, visualizations, and narrative text. It supports a variety of programming languages, including Python, R, and Julia, making it a versatile tool for data analysis, machine learning, and scientific computing.\n",
    "\n",
    "## Benefits of Learning with a Jupyter Notebook\n",
    "\n",
    "- **Interactive Learning**: You can write and execute code in small sections (cells) and immediately see the output, which enhances understanding.\n",
    "- **Visualization**: It supports rich media output such as charts, graphs, and images, making it easier to interpret data.\n",
    "- **Documentation**: You can combine code with markdown text to document your thought process, making your work more organized and shareable.\n",
    "- **Debugging**: By running code in smaller sections, you can identify and fix errors more efficiently.\n",
    "- **Reproducibility**: Notebooks can be shared with others, allowing them to reproduce your results step by step.\n",
    "\n",
    "Jupyter Notebook is an excellent tool for both beginners and experienced programmers to learn, experiment, and collaborate effectively."
   ]
  },
  {
   "cell_type": "code",
   "execution_count": 15,
   "id": "98aa917e",
   "metadata": {},
   "outputs": [],
   "source": [
    "import math\n",
    "# The math module is already imported in cell , so there's no need to import it again.\n",
    "# You can directly use math functions here."
   ]
  },
  {
   "cell_type": "markdown",
   "id": "d778bcc7",
   "metadata": {},
   "source": [
    "# Numeric types in Python"
   ]
  },
  {
   "cell_type": "code",
   "execution_count": 16,
   "id": "c5d2f2dd",
   "metadata": {},
   "outputs": [
    {
     "name": "stdout",
     "output_type": "stream",
     "text": [
      "Integer: 10 <class 'int'>\n"
     ]
    }
   ],
   "source": [
    "# This is a simple example of using numbers\n",
    "# Integer\n",
    "a = 10\n",
    "print(\"Integer:\", a, type(a))\n"
   ]
  },
  {
   "cell_type": "code",
   "execution_count": 17,
   "id": "3b644065",
   "metadata": {},
   "outputs": [
    {
     "name": "stdout",
     "output_type": "stream",
     "text": [
      "Float: 3.14 <class 'float'>\n",
      "Complex: (2+3j) <class 'complex'>\n",
      "Boolean: True <class 'bool'>\n",
      "String: Hello, World! <class 'str'>\n",
      "List: [1, 2, 3, 4, 5] <class 'list'>\n",
      "Tuple: (1, 2, 3, 4, 5) <class 'tuple'>\n",
      "Set: {1, 2, 3, 4, 5} <class 'set'>\n",
      "Dictionary: {'key1': 'value1', 'key2': 'value2'} <class 'dict'>\n",
      "NoneType: None <class 'NoneType'>\n"
     ]
    }
   ],
   "source": [
    "# Float\n",
    "b = 3.14\n",
    "print(\"Float:\", b, type(b))\n",
    "\n",
    "# Complex\n",
    "c = 2 + 3j\n",
    "print(\"Complex:\", c, type(c))\n",
    "\n",
    "# Boolean\n",
    "d = True\n",
    "print(\"Boolean:\", d, type(d))\n",
    "\n",
    "# String\n",
    "e = \"Hello, World!\"\n",
    "print(\"String:\", e, type(e))\n",
    "\n",
    "# List\n",
    "f = [1, 2, 3, 4, 5]\n",
    "print(\"List:\", f, type(f))\n",
    "\n",
    "# Tuple\n",
    "g = (1, 2, 3, 4, 5)\n",
    "print(\"Tuple:\", g, type(g))\n",
    "\n",
    "# Set\n",
    "h = {1, 2, 3, 4, 5}\n",
    "print(\"Set:\", h, type(h))\n",
    "\n",
    "# Dictionary\n",
    "i = {\"key1\": \"value1\", \"key2\": \"value2\"}\n",
    "print(\"Dictionary:\", i, type(i))\n",
    "\n",
    "# NoneType\n",
    "j = None\n",
    "print(\"NoneType:\", j, type(j))"
   ]
  },
  {
   "cell_type": "markdown",
   "id": "10397326",
   "metadata": {},
   "source": [
    "This code demonstrates the use of various data types in Python. Each data type is assigned a value, and its type is printed using the `type()` function. Below is a detailed explanation of each section:\n",
    "\n",
    "### Float\n",
    "A float is a number that has a decimal point. In this code, the variable `b` is assigned the value `3.14`, which is a floating-point number. The `type()` function confirms that `b` is of type `float`.\n",
    "\n",
    "### Complex\n",
    "A complex number consists of a real part and an imaginary part. The variable `c` is assigned the value `2 + 3j`, where `2` is the real part and `3j` is the imaginary part. The `type()` function confirms that `c` is of type `complex`.\n",
    "\n",
    "### Boolean\n",
    "A boolean represents one of two values: `True` or `False`. The variable `d` is assigned the value `True`. The `type()` function confirms that `d` is of type `bool`.\n",
    "\n",
    "### String\n",
    "A string is a sequence of characters enclosed in quotes. The variable `e` is assigned the value `\"Hello, World!\"`, which is a string. The `type()` function confirms that `e` is of type `str`.\n",
    "\n",
    "### List\n",
    "A list is a collection of items that are ordered and mutable. The variable `f` is assigned the value `[1, 2, 3, 4, 5]`, which is a list containing five integers. The `type()` function confirms that `f` is of type `list`.\n",
    "\n",
    "### Tuple\n",
    "A tuple is a collection of items that are ordered and immutable. The variable `g` is assigned the value `(1, 2, 3, 4, 5)`, which is a tuple containing five integers. The `type()` function confirms that `g` is of type `tuple`.\n",
    "\n",
    "### Set\n",
    "A set is a collection of unique items that are unordered. The variable `h` is assigned the value `{1, 2, 3, 4, 5}`, which is a set containing five unique integers. The `type()` function confirms that `h` is of type `set`.\n",
    "\n",
    "### Dictionary\n",
    "A dictionary is a collection of key-value pairs. The variable `i` is assigned the value `{\"key1\": \"value1\", \"key2\": \"value2\"}`, where `\"key1\"` and `\"key2\"` are keys, and `\"value1\"` and `\"value2\"` are their corresponding values. The `type()` function confirms that `i` is of type `dict`.\n",
    "\n",
    "### NoneType\n",
    "The `NoneType` represents the absence of a value or a null value. The variable `j` is assigned the value `None`. The `type()` function confirms that `j` is of type `NoneType`.\n",
    "\n",
    "This cell provides a comprehensive overview of Python's fundamental data types, showcasing their usage and how to identify their types using the `type()` function."
   ]
  },
  {
   "cell_type": "code",
   "execution_count": 18,
   "id": "67c877bf",
   "metadata": {},
   "outputs": [
    {
     "name": "stdout",
     "output_type": "stream",
     "text": [
      "Addition: 19\n",
      "Subtraction: 11\n",
      "Multiplication: 60\n",
      "Division: 3.75\n",
      "Floor Division: 3\n",
      "Modulus: 3\n",
      "Exponentiation: 50625\n",
      "Convert Integer to Float: 10.0 <class 'float'>\n",
      "Convert Float to Integer: 3 <class 'int'>\n",
      "Absolute Value: 20\n",
      "Round Float: 3\n",
      "Square Root: 4.0\n",
      "Power: 8.0\n",
      "Ceiling: 4\n",
      "Floor: 3\n",
      "Pi: 3.141592653589793\n",
      "Euler's Number: 2.718281828459045\n"
     ]
    }
   ],
   "source": [
    "# Basic arithmetic operations\n",
    "x = 15\n",
    "y = 4\n",
    "\n",
    "print(\"Addition:\", x + y)\n",
    "\n",
    "print(\"Subtraction:\", x - y)\n",
    "\n",
    "print(\"Multiplication:\", x * y)\n",
    "\n",
    "print(\"Division:\", x / y)  # Float division\n",
    "\n",
    "print(\"Floor Division:\", x // y)  # Integer division\n",
    "\n",
    "print(\"Modulus:\", x % y)  # modulo\n",
    "\n",
    "print(\"Exponentiation:\", x ** y)  # Power\n",
    "\n",
    "# Type conversion\n",
    "int_to_float = float(a)\n",
    "print(\"Convert Integer to Float:\", int_to_float, type(int_to_float))\n",
    "\n",
    "float_to_int = int(b)\n",
    "print(\"Convert Float to Integer:\", float_to_int, type(float_to_int))\n",
    "\n",
    "# Absolute value\n",
    "negative_num = -20\n",
    "print(\"Absolute Value:\", abs(negative_num))\n",
    "\n",
    "# Rounding numbers\n",
    "print(\"Round Float:\", round(b))\n",
    "\n",
    "# Using built-in functions\n",
    "\n",
    "print(\"Square Root:\", math.sqrt(16)) # Square root of 16\n",
    "\n",
    "print(\"Power:\", math.pow(2, 3)) # 2 raised to the power of 3\n",
    "\n",
    "print(\"Ceiling:\", math.ceil(3.2)) # Round up to the nearest integer\n",
    "\n",
    "print(\"Floor:\", math.floor(3.8)) # Round down to the nearest integer\n",
    "\n",
    "print(\"Pi:\", math.pi)   # Value of Pi\n",
    "\n",
    "print(\"Euler's Number:\", math.e) # Value of Euler's number"
   ]
  },
  {
   "cell_type": "markdown",
   "id": "2502be72",
   "metadata": {},
   "source": [
    "In this cell, we will explore various operations that can be performed on numbers in Python. These operations include arithmetic calculations, type conversions, and the use of built-in mathematical functions.\n",
    "\n",
    "### Arithmetic Operations\n",
    "Python supports basic arithmetic operations such as addition, subtraction, multiplication, division, floor division, modulus, and exponentiation. These operations can be performed on integers, floats, and complex numbers.\n",
    "\n",
    "### Type Conversion\n",
    "Python provides built-in functions like `int()`, `float()`, and `complex()` to convert numbers from one type to another. For example:\n",
    "- Converting an integer to a float.\n",
    "- Converting a float to an integer.\n",
    "\n",
    "### Built-in Mathematical Functions\n",
    "The `math` module in Python provides a variety of mathematical functions and constants, such as:\n",
    "- `sqrt()` for square root.\n",
    "- `pow()` for exponentiation.\n",
    "- `ceil()` and `floor()` for rounding numbers up or down.\n",
    "- Constants like `pi` and Euler's number (`e`).\n",
    "\n",
    "These operations and functions make Python a powerful tool for numerical computations and mathematical problem-solving."
   ]
  }
 ],
 "metadata": {
  "kernelspec": {
   "display_name": "ml_course_403_2",
   "language": "python",
   "name": "python3"
  },
  "language_info": {
   "codemirror_mode": {
    "name": "ipython",
    "version": 3
   },
   "file_extension": ".py",
   "mimetype": "text/x-python",
   "name": "python",
   "nbconvert_exporter": "python",
   "pygments_lexer": "ipython3",
   "version": "3.10.16"
  }
 },
 "nbformat": 4,
 "nbformat_minor": 5
}
